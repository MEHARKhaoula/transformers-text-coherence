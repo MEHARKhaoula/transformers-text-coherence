{
  "cells": [
    {
      "cell_type": "markdown",
      "metadata": {
        "id": "view-in-github",
        "colab_type": "text"
      },
      "source": [
        "<a href=\"https://colab.research.google.com/github/MEHARKhaoula/transformers-text-coherence/blob/main/RobertaSem.ipynb\" target=\"_parent\"><img src=\"https://colab.research.google.com/assets/colab-badge.svg\" alt=\"Open In Colab\"/></a>"
      ]
    },
    {
      "cell_type": "code",
      "execution_count": 1,
      "metadata": {
        "colab": {
          "base_uri": "https://localhost:8080/"
        },
        "id": "Emlq5mNf2Mj8",
        "outputId": "eb9fd967-60c7-43b8-c5d8-31e45f3ea82e"
      },
      "outputs": [
        {
          "output_type": "stream",
          "name": "stdout",
          "text": [
            "GPU 0: Tesla T4 (UUID: GPU-bdfcfbfa-67bd-56a6-06a6-2b83c649d264)\n"
          ]
        }
      ],
      "source": [
        "!nvidia-smi -L"
      ]
    },
    {
      "cell_type": "markdown",
      "metadata": {
        "id": "RX_ZDhicpHkV"
      },
      "source": [
        "# 1. Setup"
      ]
    },
    {
      "cell_type": "markdown",
      "metadata": {
        "id": "nSU7yERLP_66"
      },
      "source": [
        "## 1.1. Using Colab GPU for Training\n"
      ]
    },
    {
      "cell_type": "code",
      "execution_count": 2,
      "metadata": {
        "colab": {
          "base_uri": "https://localhost:8080/"
        },
        "id": "DEfSbAA4QHas",
        "outputId": "a1f7aeda-f69f-4e8b-fe66-d15be9a90b1f"
      },
      "outputs": [
        {
          "output_type": "stream",
          "name": "stdout",
          "text": [
            "Found GPU at: /device:GPU:0\n"
          ]
        }
      ],
      "source": [
        "import tensorflow as tf\n",
        "\n",
        "# Get the GPU device name.\n",
        "device_name = tf.test.gpu_device_name()\n",
        "\n",
        "# The device name should look like the following:\n",
        "if device_name == '/device:GPU:0':\n",
        "    print('Found GPU at: {}'.format(device_name))\n",
        "else:\n",
        "    raise SystemError('GPU device not found')"
      ]
    },
    {
      "cell_type": "markdown",
      "metadata": {
        "id": "cqG7FzRVFEIv"
      },
      "source": [
        "In order for torch to use the GPU, we need to identify and specify the GPU as the device. Later, in our training loop, we will load data onto the device. "
      ]
    },
    {
      "cell_type": "code",
      "execution_count": 3,
      "metadata": {
        "colab": {
          "base_uri": "https://localhost:8080/"
        },
        "id": "oYsV4H8fCpZ-",
        "outputId": "e612ca32-4a1f-4c89-da53-ba91e0a8529f"
      },
      "outputs": [
        {
          "output_type": "stream",
          "name": "stdout",
          "text": [
            "There are 1 GPU(s) available.\n",
            "We will use the GPU: Tesla T4\n"
          ]
        }
      ],
      "source": [
        "import torch\n",
        "\n",
        "# If there's a GPU available...\n",
        "if torch.cuda.is_available():    \n",
        "\n",
        "    # Tell PyTorch to use the GPU.    \n",
        "    device = torch.device(\"cuda\")\n",
        "\n",
        "    print('There are %d GPU(s) available.' % torch.cuda.device_count())\n",
        "\n",
        "    print('We will use the GPU:', torch.cuda.get_device_name(0))\n",
        "\n",
        "# If not...\n",
        "else:\n",
        "    print('No GPU available, using the CPU instead.')\n",
        "    device = torch.device(\"cpu\")"
      ]
    },
    {
      "cell_type": "markdown",
      "metadata": {
        "id": "2ElsnSNUridI"
      },
      "source": [
        "## 1.2. Installing the Hugging Face Library\n"
      ]
    },
    {
      "cell_type": "code",
      "execution_count": 4,
      "metadata": {
        "id": "0NmMdkZO8R6q",
        "colab": {
          "base_uri": "https://localhost:8080/"
        },
        "outputId": "a7bd3055-3c4c-48d1-8241-e4ac5269714e"
      },
      "outputs": [
        {
          "output_type": "stream",
          "name": "stdout",
          "text": [
            "Looking in indexes: https://pypi.org/simple, https://us-python.pkg.dev/colab-wheels/public/simple/\n",
            "Requirement already satisfied: transformers in /usr/local/lib/python3.8/dist-packages (4.25.1)\n",
            "Requirement already satisfied: pyyaml>=5.1 in /usr/local/lib/python3.8/dist-packages (from transformers) (6.0)\n",
            "Requirement already satisfied: requests in /usr/local/lib/python3.8/dist-packages (from transformers) (2.25.1)\n",
            "Requirement already satisfied: filelock in /usr/local/lib/python3.8/dist-packages (from transformers) (3.8.2)\n",
            "Requirement already satisfied: numpy>=1.17 in /usr/local/lib/python3.8/dist-packages (from transformers) (1.21.6)\n",
            "Requirement already satisfied: packaging>=20.0 in /usr/local/lib/python3.8/dist-packages (from transformers) (21.3)\n",
            "Requirement already satisfied: regex!=2019.12.17 in /usr/local/lib/python3.8/dist-packages (from transformers) (2022.6.2)\n",
            "Requirement already satisfied: huggingface-hub<1.0,>=0.10.0 in /usr/local/lib/python3.8/dist-packages (from transformers) (0.11.1)\n",
            "Requirement already satisfied: tokenizers!=0.11.3,<0.14,>=0.11.1 in /usr/local/lib/python3.8/dist-packages (from transformers) (0.13.2)\n",
            "Requirement already satisfied: tqdm>=4.27 in /usr/local/lib/python3.8/dist-packages (from transformers) (4.64.1)\n",
            "Requirement already satisfied: typing-extensions>=3.7.4.3 in /usr/local/lib/python3.8/dist-packages (from huggingface-hub<1.0,>=0.10.0->transformers) (4.4.0)\n",
            "Requirement already satisfied: pyparsing!=3.0.5,>=2.0.2 in /usr/local/lib/python3.8/dist-packages (from packaging>=20.0->transformers) (3.0.9)\n",
            "Requirement already satisfied: certifi>=2017.4.17 in /usr/local/lib/python3.8/dist-packages (from requests->transformers) (2022.12.7)\n",
            "Requirement already satisfied: urllib3<1.27,>=1.21.1 in /usr/local/lib/python3.8/dist-packages (from requests->transformers) (1.24.3)\n",
            "Requirement already satisfied: chardet<5,>=3.0.2 in /usr/local/lib/python3.8/dist-packages (from requests->transformers) (4.0.0)\n",
            "Requirement already satisfied: idna<3,>=2.5 in /usr/local/lib/python3.8/dist-packages (from requests->transformers) (2.10)\n"
          ]
        }
      ],
      "source": [
        "!pip install transformers"
      ]
    },
    {
      "cell_type": "code",
      "source": [
        "import pandas as pd\n",
        "\n",
        "from google.colab import drive\n",
        "drive.mount('/content/drive')\n"
      ],
      "metadata": {
        "colab": {
          "base_uri": "https://localhost:8080/"
        },
        "id": "RwXE6Z8e3pXO",
        "outputId": "d56f55ae-9efb-4934-f482-62dad342a32e"
      },
      "execution_count": 5,
      "outputs": [
        {
          "output_type": "stream",
          "name": "stdout",
          "text": [
            "Drive already mounted at /content/drive; to attempt to forcibly remount, call drive.mount(\"/content/drive\", force_remount=True).\n"
          ]
        }
      ]
    },
    {
      "cell_type": "markdown",
      "metadata": {
        "id": "yJJvp-NZiGm-"
      },
      "source": [
        "# Importing GCDC dataset\n",
        "\n"
      ]
    },
    {
      "cell_type": "markdown",
      "metadata": {
        "id": "oQUy9Tat2EF_"
      },
      "source": [
        "## 2.2. Parse"
      ]
    },
    {
      "cell_type": "markdown",
      "metadata": {
        "id": "MYWzeGSY2xh3"
      },
      "source": [
        "We'll use pandas to parse the \"in-domain\" training set and look at a few of its properties and data points."
      ]
    },
    {
      "cell_type": "code",
      "execution_count": 6,
      "metadata": {
        "id": "_UkeC7SG2krJ",
        "colab": {
          "base_uri": "https://localhost:8080/",
          "height": 398
        },
        "outputId": "d1d564dc-77cd-4b1a-add6-82f81b55f4e7"
      },
      "outputs": [
        {
          "output_type": "stream",
          "name": "stdout",
          "text": [
            "Number of training sentences: 4,800\n",
            "\n"
          ]
        },
        {
          "output_type": "execute_result",
          "data": {
            "text/plain": [
              "                     text_id  \\\n",
              "1649                 1359712   \n",
              "3017  c51VoXUeG0KdGGx-Ee51xw   \n",
              "2138              text1051SC   \n",
              "445              C05772564_2   \n",
              "1347                 1311518   \n",
              "3076  DhA_zGxQzzC9hftN-jYOPA   \n",
              "2449               text1264T   \n",
              "3685  UDP9rZysg-7gbj00MCmkMA   \n",
              "3502  LmztgUpm4eXfibCgr7pH1g   \n",
              "1656                 1251209   \n",
              "\n",
              "                                                   text  labelA  \n",
              "1649  The physical short position that NPW has with ...       2  \n",
              "3017  I boarded my dog here overnight for a few nigh...       2  \n",
              "2138  Sorry about your mom. My husband has red hair ...       1  \n",
              "445   Following is based on Erekat and other members...       0  \n",
              "1347  Understand that this was clearly a very high l...       2  \n",
              "3076  I love this place especially when i am in a pa...       1  \n",
              "2449  Giving money would let her buy whatever she wa...       1  \n",
              "3685  Wow! & AMAZING! Are the words I'd use to descr...       2  \n",
              "3502  OK this place is supposed to be highly rated b...       2  \n",
              "1656  Hattie,\\r\\n\\r\\nYes, I will fax it to you when ...       0  "
            ],
            "text/html": [
              "\n",
              "  <div id=\"df-1456f3f5-9b7f-4b11-a999-5385b02ea592\">\n",
              "    <div class=\"colab-df-container\">\n",
              "      <div>\n",
              "<style scoped>\n",
              "    .dataframe tbody tr th:only-of-type {\n",
              "        vertical-align: middle;\n",
              "    }\n",
              "\n",
              "    .dataframe tbody tr th {\n",
              "        vertical-align: top;\n",
              "    }\n",
              "\n",
              "    .dataframe thead th {\n",
              "        text-align: right;\n",
              "    }\n",
              "</style>\n",
              "<table border=\"1\" class=\"dataframe\">\n",
              "  <thead>\n",
              "    <tr style=\"text-align: right;\">\n",
              "      <th></th>\n",
              "      <th>text_id</th>\n",
              "      <th>text</th>\n",
              "      <th>labelA</th>\n",
              "    </tr>\n",
              "  </thead>\n",
              "  <tbody>\n",
              "    <tr>\n",
              "      <th>1649</th>\n",
              "      <td>1359712</td>\n",
              "      <td>The physical short position that NPW has with ...</td>\n",
              "      <td>2</td>\n",
              "    </tr>\n",
              "    <tr>\n",
              "      <th>3017</th>\n",
              "      <td>c51VoXUeG0KdGGx-Ee51xw</td>\n",
              "      <td>I boarded my dog here overnight for a few nigh...</td>\n",
              "      <td>2</td>\n",
              "    </tr>\n",
              "    <tr>\n",
              "      <th>2138</th>\n",
              "      <td>text1051SC</td>\n",
              "      <td>Sorry about your mom. My husband has red hair ...</td>\n",
              "      <td>1</td>\n",
              "    </tr>\n",
              "    <tr>\n",
              "      <th>445</th>\n",
              "      <td>C05772564_2</td>\n",
              "      <td>Following is based on Erekat and other members...</td>\n",
              "      <td>0</td>\n",
              "    </tr>\n",
              "    <tr>\n",
              "      <th>1347</th>\n",
              "      <td>1311518</td>\n",
              "      <td>Understand that this was clearly a very high l...</td>\n",
              "      <td>2</td>\n",
              "    </tr>\n",
              "    <tr>\n",
              "      <th>3076</th>\n",
              "      <td>DhA_zGxQzzC9hftN-jYOPA</td>\n",
              "      <td>I love this place especially when i am in a pa...</td>\n",
              "      <td>1</td>\n",
              "    </tr>\n",
              "    <tr>\n",
              "      <th>2449</th>\n",
              "      <td>text1264T</td>\n",
              "      <td>Giving money would let her buy whatever she wa...</td>\n",
              "      <td>1</td>\n",
              "    </tr>\n",
              "    <tr>\n",
              "      <th>3685</th>\n",
              "      <td>UDP9rZysg-7gbj00MCmkMA</td>\n",
              "      <td>Wow! &amp; AMAZING! Are the words I'd use to descr...</td>\n",
              "      <td>2</td>\n",
              "    </tr>\n",
              "    <tr>\n",
              "      <th>3502</th>\n",
              "      <td>LmztgUpm4eXfibCgr7pH1g</td>\n",
              "      <td>OK this place is supposed to be highly rated b...</td>\n",
              "      <td>2</td>\n",
              "    </tr>\n",
              "    <tr>\n",
              "      <th>1656</th>\n",
              "      <td>1251209</td>\n",
              "      <td>Hattie,\\r\\n\\r\\nYes, I will fax it to you when ...</td>\n",
              "      <td>0</td>\n",
              "    </tr>\n",
              "  </tbody>\n",
              "</table>\n",
              "</div>\n",
              "      <button class=\"colab-df-convert\" onclick=\"convertToInteractive('df-1456f3f5-9b7f-4b11-a999-5385b02ea592')\"\n",
              "              title=\"Convert this dataframe to an interactive table.\"\n",
              "              style=\"display:none;\">\n",
              "        \n",
              "  <svg xmlns=\"http://www.w3.org/2000/svg\" height=\"24px\"viewBox=\"0 0 24 24\"\n",
              "       width=\"24px\">\n",
              "    <path d=\"M0 0h24v24H0V0z\" fill=\"none\"/>\n",
              "    <path d=\"M18.56 5.44l.94 2.06.94-2.06 2.06-.94-2.06-.94-.94-2.06-.94 2.06-2.06.94zm-11 1L8.5 8.5l.94-2.06 2.06-.94-2.06-.94L8.5 2.5l-.94 2.06-2.06.94zm10 10l.94 2.06.94-2.06 2.06-.94-2.06-.94-.94-2.06-.94 2.06-2.06.94z\"/><path d=\"M17.41 7.96l-1.37-1.37c-.4-.4-.92-.59-1.43-.59-.52 0-1.04.2-1.43.59L10.3 9.45l-7.72 7.72c-.78.78-.78 2.05 0 2.83L4 21.41c.39.39.9.59 1.41.59.51 0 1.02-.2 1.41-.59l7.78-7.78 2.81-2.81c.8-.78.8-2.07 0-2.86zM5.41 20L4 18.59l7.72-7.72 1.47 1.35L5.41 20z\"/>\n",
              "  </svg>\n",
              "      </button>\n",
              "      \n",
              "  <style>\n",
              "    .colab-df-container {\n",
              "      display:flex;\n",
              "      flex-wrap:wrap;\n",
              "      gap: 12px;\n",
              "    }\n",
              "\n",
              "    .colab-df-convert {\n",
              "      background-color: #E8F0FE;\n",
              "      border: none;\n",
              "      border-radius: 50%;\n",
              "      cursor: pointer;\n",
              "      display: none;\n",
              "      fill: #1967D2;\n",
              "      height: 32px;\n",
              "      padding: 0 0 0 0;\n",
              "      width: 32px;\n",
              "    }\n",
              "\n",
              "    .colab-df-convert:hover {\n",
              "      background-color: #E2EBFA;\n",
              "      box-shadow: 0px 1px 2px rgba(60, 64, 67, 0.3), 0px 1px 3px 1px rgba(60, 64, 67, 0.15);\n",
              "      fill: #174EA6;\n",
              "    }\n",
              "\n",
              "    [theme=dark] .colab-df-convert {\n",
              "      background-color: #3B4455;\n",
              "      fill: #D2E3FC;\n",
              "    }\n",
              "\n",
              "    [theme=dark] .colab-df-convert:hover {\n",
              "      background-color: #434B5C;\n",
              "      box-shadow: 0px 1px 3px 1px rgba(0, 0, 0, 0.15);\n",
              "      filter: drop-shadow(0px 1px 2px rgba(0, 0, 0, 0.3));\n",
              "      fill: #FFFFFF;\n",
              "    }\n",
              "  </style>\n",
              "\n",
              "      <script>\n",
              "        const buttonEl =\n",
              "          document.querySelector('#df-1456f3f5-9b7f-4b11-a999-5385b02ea592 button.colab-df-convert');\n",
              "        buttonEl.style.display =\n",
              "          google.colab.kernel.accessAllowed ? 'block' : 'none';\n",
              "\n",
              "        async function convertToInteractive(key) {\n",
              "          const element = document.querySelector('#df-1456f3f5-9b7f-4b11-a999-5385b02ea592');\n",
              "          const dataTable =\n",
              "            await google.colab.kernel.invokeFunction('convertToInteractive',\n",
              "                                                     [key], {});\n",
              "          if (!dataTable) return;\n",
              "\n",
              "          const docLinkHtml = 'Like what you see? Visit the ' +\n",
              "            '<a target=\"_blank\" href=https://colab.research.google.com/notebooks/data_table.ipynb>data table notebook</a>'\n",
              "            + ' to learn more about interactive tables.';\n",
              "          element.innerHTML = '';\n",
              "          dataTable['output_type'] = 'display_data';\n",
              "          await google.colab.output.renderOutput(dataTable, element);\n",
              "          const docLink = document.createElement('div');\n",
              "          docLink.innerHTML = docLinkHtml;\n",
              "          element.appendChild(docLink);\n",
              "        }\n",
              "      </script>\n",
              "    </div>\n",
              "  </div>\n",
              "  "
            ]
          },
          "metadata": {},
          "execution_count": 6
        }
      ],
      "source": [
        "\n",
        "\n",
        "# Load the dataset into a pandas dataframe.\n",
        "df = pd.read_csv(\"/content/drive/My Drive/GCDC_cv.csv\", encoding='utf-8', skiprows=1, delimiter=',', header=None, names=['text_id', 'text','labelA'])\n",
        "df['labelA'] = df['labelA'].astype(int)\n",
        "df['labelA'] = df['labelA'] - 1\n",
        "\n",
        "# Report the number of sentences.\n",
        "print('Number of training sentences: {:,}\\n'.format(df.shape[0]))\n",
        "\n",
        "# Display 10 random rows from the data.\n",
        "df.sample(10)"
      ]
    },
    {
      "cell_type": "markdown",
      "metadata": {
        "id": "kfWzpPi92UAH"
      },
      "source": [
        "The two properties we actually care about are the the `text` and its `labelA`, which is referred to as the \"coherence class\""
      ]
    },
    {
      "cell_type": "markdown",
      "metadata": {
        "id": "4SMZ5T5Imhlx"
      },
      "source": [
        "\n",
        "\n",
        "Let's extract the sentences and labels of our training set as numpy ndarrays."
      ]
    },
    {
      "cell_type": "code",
      "execution_count": 7,
      "metadata": {
        "id": "GuE5BqICAne2"
      },
      "outputs": [],
      "source": [
        "# Get the lists of sentences and their labels.\n",
        "documents = df.text.values\n",
        "labels = df.labelA.values"
      ]
    },
    {
      "cell_type": "markdown",
      "metadata": {
        "id": "ex5O1eV-Pfct"
      },
      "source": [
        "# 3. Tokenization & Input Formatting\n",
        "\n",
        "In this section, we'll transform our dataset into the format that Roberta can be trained on."
      ]
    },
    {
      "cell_type": "markdown",
      "metadata": {
        "id": "-8kEDRvShcU5"
      },
      "source": [
        "## 3.1. Roberta Tokenizer"
      ]
    },
    {
      "cell_type": "code",
      "execution_count": 8,
      "metadata": {
        "colab": {
          "base_uri": "https://localhost:8080/"
        },
        "id": "Z474sSC6oe7A",
        "outputId": "8b54b09c-2e82-4736-d56b-ea733e8ce6d4"
      },
      "outputs": [
        {
          "output_type": "stream",
          "name": "stdout",
          "text": [
            "Loading Roberta tokenizer...\n"
          ]
        }
      ],
      "source": [
        "from transformers import RobertaTokenizer\n",
        "\n",
        "# Load the Roberta tokenizer.\n",
        "print('Loading Roberta tokenizer...')\n",
        "tokenizer = RobertaTokenizer.from_pretrained('roberta-base', do_lower_case=True)"
      ]
    },
    {
      "cell_type": "markdown",
      "metadata": {
        "id": "dFzmtleW6KmJ"
      },
      "source": [
        "Let's apply the tokenizer to one sentence just to see the output.\n"
      ]
    },
    {
      "cell_type": "code",
      "execution_count": 9,
      "metadata": {
        "id": "dLIbudgfh6F0",
        "colab": {
          "base_uri": "https://localhost:8080/"
        },
        "outputId": "e2ec180c-0815-4975-87b7-53fa80a384de"
      },
      "outputs": [
        {
          "output_type": "stream",
          "name": "stdout",
          "text": [
            " Original:  Cheryl:\r\n",
            "\r\n",
            "Are we in a good place to begin paperwork to bring Jen Davis up here on TDY in October?\r\n",
            "\r\n",
            "If so, I would recommend we ask her to report on October 29 and I will get the EX office to start the paperwork. She will be detailed to us for 90 days, which will enable her to receive funding for housing, meals + incidentals, etc., and this 90 day period will carry her through the end of the term on January 20, 2013. This schedule would give me 10 days or so of consultation before a desired departure for Vienna on November 14.\r\n",
            "\r\n",
            "I am not intent on rushing out to Vienna; the closer we get the more there is to be done, and we may not get ourselves \"packed out\" before we depart (not a wholly unwelcomed outcome, since we can set aside that task for December or January). But, if the elements are in place, Carol and I would like to go out mid-November in order to participate in IAEA meetings on November 26-30.\r\n",
            "\r\n",
            "My swearing-in ceremony is scheduled for November 9 at 10am on the 8th floor. Whatever plan we embrace, that date is set and Carol and I are eager for the day.\n",
            "Tokenized:  ['C', 'her', 'yl', ':', 'č', 'Ċ', 'č', 'Ċ', 'Are', 'Ġwe', 'Ġin', 'Ġa', 'Ġgood', 'Ġplace', 'Ġto', 'Ġbegin', 'Ġpaperwork', 'Ġto', 'Ġbring', 'ĠJen', 'ĠDavis', 'Ġup', 'Ġhere', 'Ġon', 'ĠTD', 'Y', 'Ġin', 'ĠOctober', '?', 'č', 'Ċ', 'č', 'Ċ', 'If', 'Ġso', ',', 'ĠI', 'Ġwould', 'Ġrecommend', 'Ġwe', 'Ġask', 'Ġher', 'Ġto', 'Ġreport', 'Ġon', 'ĠOctober', 'Ġ29', 'Ġand', 'ĠI', 'Ġwill', 'Ġget', 'Ġthe', 'ĠEX', 'Ġoffice', 'Ġto', 'Ġstart', 'Ġthe', 'Ġpaperwork', '.', 'ĠShe', 'Ġwill', 'Ġbe', 'Ġdetailed', 'Ġto', 'Ġus', 'Ġfor', 'Ġ90', 'Ġdays', ',', 'Ġwhich', 'Ġwill', 'Ġenable', 'Ġher', 'Ġto', 'Ġreceive', 'Ġfunding', 'Ġfor', 'Ġhousing', ',', 'Ġmeals', 'Ġ+', 'Ġincident', 'als', ',', 'Ġetc', '.,', 'Ġand', 'Ġthis', 'Ġ90', 'Ġday', 'Ġperiod', 'Ġwill', 'Ġcarry', 'Ġher', 'Ġthrough', 'Ġthe', 'Ġend', 'Ġof', 'Ġthe', 'Ġterm', 'Ġon', 'ĠJanuary', 'Ġ20', ',', 'Ġ2013', '.', 'ĠThis', 'Ġschedule', 'Ġwould', 'Ġgive', 'Ġme', 'Ġ10', 'Ġdays', 'Ġor', 'Ġso', 'Ġof', 'Ġconsultation', 'Ġbefore', 'Ġa', 'Ġdesired', 'Ġdeparture', 'Ġfor', 'ĠVienna', 'Ġon', 'ĠNovember', 'Ġ14', '.', 'č', 'Ċ', 'č', 'Ċ', 'I', 'Ġam', 'Ġnot', 'Ġintent', 'Ġon', 'Ġrushing', 'Ġout', 'Ġto', 'ĠVienna', ';', 'Ġthe', 'Ġcloser', 'Ġwe', 'Ġget', 'Ġthe', 'Ġmore', 'Ġthere', 'Ġis', 'Ġto', 'Ġbe', 'Ġdone', ',', 'Ġand', 'Ġwe', 'Ġmay', 'Ġnot', 'Ġget', 'Ġourselves', 'Ġ\"', 'packed', 'Ġout', '\"', 'Ġbefore', 'Ġwe', 'Ġdepart', 'Ġ(', 'not', 'Ġa', 'Ġwholly', 'Ġunw', 'el', 'comed', 'Ġoutcome', ',', 'Ġsince', 'Ġwe', 'Ġcan', 'Ġset', 'Ġaside', 'Ġthat', 'Ġtask', 'Ġfor', 'ĠDecember', 'Ġor', 'ĠJanuary', ').', 'ĠBut', ',', 'Ġif', 'Ġthe', 'Ġelements', 'Ġare', 'Ġin', 'Ġplace', ',', 'ĠCarol', 'Ġand', 'ĠI', 'Ġwould', 'Ġlike', 'Ġto', 'Ġgo', 'Ġout', 'Ġmid', '-', 'November', 'Ġin', 'Ġorder', 'Ġto', 'Ġparticipate', 'Ġin', 'ĠI', 'AE', 'A', 'Ġmeetings', 'Ġon', 'ĠNovember', 'Ġ26', '-', '30', '.', 'č', 'Ċ', 'č', 'Ċ', 'My', 'Ġswearing', '-', 'in', 'Ġceremony', 'Ġis', 'Ġscheduled', 'Ġfor', 'ĠNovember', 'Ġ9', 'Ġat', 'Ġ10', 'am', 'Ġon', 'Ġthe', 'Ġ8', 'th', 'Ġfloor', '.', 'ĠWhatever', 'Ġplan', 'Ġwe', 'Ġembrace', ',', 'Ġthat', 'Ġdate', 'Ġis', 'Ġset', 'Ġand', 'ĠCarol', 'Ġand', 'ĠI', 'Ġare', 'Ġeager', 'Ġfor', 'Ġthe', 'Ġday', '.']\n",
            "Token IDs:  [347, 1843, 4360, 35, 50121, 50118, 50121, 50118, 13755, 52, 11, 10, 205, 317, 7, 1642, 14630, 7, 836, 13831, 2505, 62, 259, 15, 7463, 975, 11, 779, 116, 50121, 50118, 50121, 50118, 1106, 98, 6, 38, 74, 5940, 52, 1394, 69, 7, 266, 15, 779, 1132, 8, 38, 40, 120, 5, 10649, 558, 7, 386, 5, 14630, 4, 264, 40, 28, 4271, 7, 201, 13, 1814, 360, 6, 61, 40, 3155, 69, 7, 1325, 1435, 13, 2004, 6, 7317, 2055, 1160, 1536, 6, 4753, 482, 8, 42, 1814, 183, 675, 40, 2324, 69, 149, 5, 253, 9, 5, 1385, 15, 644, 291, 6, 1014, 4, 152, 3078, 74, 492, 162, 158, 360, 50, 98, 9, 9434, 137, 10, 12762, 5824, 13, 15534, 15, 759, 501, 4, 50121, 50118, 50121, 50118, 100, 524, 45, 5927, 15, 6404, 66, 7, 15534, 131, 5, 2789, 52, 120, 5, 55, 89, 16, 7, 28, 626, 6, 8, 52, 189, 45, 120, 4288, 22, 21330, 66, 113, 137, 52, 18770, 36, 3654, 10, 16123, 10963, 523, 40478, 4258, 6, 187, 52, 64, 278, 4364, 14, 3685, 13, 719, 50, 644, 322, 125, 6, 114, 5, 4785, 32, 11, 317, 6, 9347, 8, 38, 74, 101, 7, 213, 66, 1084, 12, 21206, 11, 645, 7, 4064, 11, 38, 16329, 250, 2891, 15, 759, 973, 12, 541, 4, 50121, 50118, 50121, 50118, 2387, 21854, 12, 179, 2844, 16, 1768, 13, 759, 361, 23, 158, 424, 15, 5, 290, 212, 1929, 4, 11999, 563, 52, 7962, 6, 14, 1248, 16, 278, 8, 9347, 8, 38, 32, 7921, 13, 5, 183, 4]\n"
          ]
        }
      ],
      "source": [
        "# Print the original sentence.\n",
        "print(' Original: ', documents[0])\n",
        "\n",
        "# Print the sentence split into tokens.\n",
        "print('Tokenized: ', tokenizer.tokenize(documents[0]))\n",
        "\n",
        "# Print the sentence mapped to token ids.\n",
        "print('Token IDs: ', tokenizer.convert_tokens_to_ids(tokenizer.tokenize(documents[0])))"
      ]
    },
    {
      "cell_type": "markdown",
      "metadata": {
        "id": "viKGCCh8izww"
      },
      "source": [
        "## 3.2. Required Formatting"
      ]
    },
    {
      "cell_type": "markdown",
      "metadata": {
        "id": "V6mceWWOjZnw"
      },
      "source": [
        "### Special Tokens\n"
      ]
    },
    {
      "cell_type": "markdown",
      "metadata": {
        "id": "l6w8elb-58GJ"
      },
      "source": [
        "## 3.3. Tokenize Dataset"
      ]
    },
    {
      "cell_type": "code",
      "execution_count": 10,
      "metadata": {
        "colab": {
          "base_uri": "https://localhost:8080/"
        },
        "id": "cKsH2sU0OCQA",
        "outputId": "5c3df91e-2b21-4f38-9bf0-764c4c1516b1"
      },
      "outputs": [
        {
          "output_type": "stream",
          "name": "stdout",
          "text": [
            "Max sentence length:  485\n"
          ]
        }
      ],
      "source": [
        "max_len = 0\n",
        "\n",
        "# For every sentence...\n",
        "for doc in documents:\n",
        "\n",
        "    # Tokenize the text and add `[CLS]` and `[SEP]` tokens.\n",
        "    input_ids = tokenizer.encode(doc, add_special_tokens=True)\n",
        "\n",
        "    # Update the maximum sentence length.\n",
        "    max_len = max(max_len, len(input_ids))\n",
        "\n",
        "print('Max sentence length: ', max_len)"
      ]
    },
    {
      "cell_type": "markdown",
      "metadata": {
        "id": "tIWAoWL2RK1p"
      },
      "source": [
        "Now we're ready to perform the real tokenization.\n",
        "\n",
        "The `tokenizer.encode_plus` function combines multiple steps for us:\n",
        "\n",
        "1. Split the sentence into tokens.\n",
        "2. Add the special `[CLS]` and `[SEP]` tokens.\n",
        "3. Map the tokens to their IDs.\n",
        "4. Pad or truncate all sentences to the same length.\n",
        "5. Create the attention masks which explicitly differentiate real tokens from `[PAD]` tokens.\n",
        "\n",
        "The first four features are in `tokenizer.encode`, but I'm using `tokenizer.encode_plus` to get the fifth item (attention masks). Documentation is [here](https://huggingface.co/transformers/main_classes/tokenizer.html?highlight=encode_plus#transformers.PreTrainedTokenizer.encode_plus).\n"
      ]
    },
    {
      "cell_type": "code",
      "execution_count": 11,
      "metadata": {
        "id": "2bBdb3pt8LuQ",
        "colab": {
          "base_uri": "https://localhost:8080/"
        },
        "outputId": "3d8e313a-0e22-472c-ac70-3f6ba7b38067"
      },
      "outputs": [
        {
          "output_type": "stream",
          "name": "stderr",
          "text": [
            "Truncation was not explicitly activated but `max_length` is provided a specific value, please use `truncation=True` to explicitly truncate examples to max length. Defaulting to 'longest_first' truncation strategy. If you encode pairs of sequences (GLUE-style) with the tokenizer you can select this strategy more precisely by providing a specific strategy to `truncation`.\n",
            "/usr/local/lib/python3.8/dist-packages/transformers/tokenization_utils_base.py:2336: FutureWarning: The `pad_to_max_length` argument is deprecated and will be removed in a future version, use `padding=True` or `padding='longest'` to pad to the longest sequence in the batch, or use `padding='max_length'` to pad to a max length. In this case, you can give a specific length with `max_length` (e.g. `max_length=45`) or leave max_length to None to pad to the maximal input size of the model (e.g. 512 for Bert).\n",
            "  warnings.warn(\n"
          ]
        },
        {
          "output_type": "stream",
          "name": "stdout",
          "text": [
            "Original:  Cheryl:\r\n",
            "\r\n",
            "Are we in a good place to begin paperwork to bring Jen Davis up here on TDY in October?\r\n",
            "\r\n",
            "If so, I would recommend we ask her to report on October 29 and I will get the EX office to start the paperwork. She will be detailed to us for 90 days, which will enable her to receive funding for housing, meals + incidentals, etc., and this 90 day period will carry her through the end of the term on January 20, 2013. This schedule would give me 10 days or so of consultation before a desired departure for Vienna on November 14.\r\n",
            "\r\n",
            "I am not intent on rushing out to Vienna; the closer we get the more there is to be done, and we may not get ourselves \"packed out\" before we depart (not a wholly unwelcomed outcome, since we can set aside that task for December or January). But, if the elements are in place, Carol and I would like to go out mid-November in order to participate in IAEA meetings on November 26-30.\r\n",
            "\r\n",
            "My swearing-in ceremony is scheduled for November 9 at 10am on the 8th floor. Whatever plan we embrace, that date is set and Carol and I are eager for the day.\n",
            "Token IDs: tensor([    0,   347,  1843,  4360,    35, 50121, 50118, 50121, 50118, 13755,\n",
            "           52,    11,    10,   205,   317,     7,  1642, 14630,     7,   836,\n",
            "        13831,  2505,    62,   259,    15,  7463,   975,    11,   779,   116,\n",
            "        50121, 50118, 50121, 50118,  1106,    98,     6,    38,    74,  5940,\n",
            "           52,  1394,    69,     7,   266,    15,   779,  1132,     8,    38,\n",
            "           40,   120,     5, 10649,   558,     7,   386,     5, 14630,     4,\n",
            "          264,    40,    28,  4271,     7,   201,    13,  1814,   360,     6,\n",
            "           61,    40,  3155,    69,     7,  1325,  1435,    13,  2004,     6,\n",
            "         7317,  2055,  1160,  1536,     6,  4753,   482,     8,    42,  1814,\n",
            "          183,   675,    40,  2324,    69,   149,     5,   253,     9,     5,\n",
            "         1385,    15,   644,   291,     6,  1014,     4,   152,  3078,    74,\n",
            "          492,   162,   158,   360,    50,    98,     9,  9434,   137,    10,\n",
            "        12762,  5824,    13, 15534,    15,   759,   501,     4, 50121, 50118,\n",
            "        50121, 50118,   100,   524,    45,  5927,    15,  6404,    66,     7,\n",
            "        15534,   131,     5,  2789,    52,   120,     5,    55,    89,    16,\n",
            "            7,    28,   626,     6,     8,    52,   189,    45,   120,  4288,\n",
            "           22, 21330,    66,   113,   137,    52, 18770,    36,  3654,    10,\n",
            "        16123, 10963,   523, 40478,  4258,     6,   187,    52,    64,   278,\n",
            "         4364,    14,  3685,    13,   719,    50,   644,   322,   125,     6,\n",
            "          114,     5,  4785,    32,    11,   317,     6,  9347,     8,    38,\n",
            "           74,   101,     7,   213,    66,  1084,    12, 21206,    11,   645,\n",
            "            7,  4064,    11,    38, 16329,   250,  2891,    15,   759,   973,\n",
            "           12,   541,     4, 50121, 50118, 50121, 50118,  2387, 21854,    12,\n",
            "          179,  2844,    16,  1768,    13,   759,   361,    23,   158,   424,\n",
            "           15,     5,   290,   212,  1929,     4, 11999,   563,    52,  7962,\n",
            "            6,    14,  1248,    16,   278,     2])\n"
          ]
        }
      ],
      "source": [
        "import torch\n",
        "# Tokenize all of the sentences and map the tokens to thier word IDs.\n",
        "input_ids = []\n",
        "attention_masks = []\n",
        "\n",
        "# For every sentence...\n",
        "for doc in documents:\n",
        "    # `encode_plus` will:\n",
        "    #   (1) Tokenize the sentence.\n",
        "    #   (2) Prepend the `[CLS]` token to the start.\n",
        "    #   (3) Append the `[SEP]` token to the end.\n",
        "    #   (4) Map tokens to their IDs.\n",
        "    #   (5) Pad or truncate the sentence to `max_length`\n",
        "    #   (6) Create attention masks for [PAD] tokens.\n",
        "    encoded_dict = tokenizer.encode_plus(\n",
        "                        doc,                      # Sentence to encode.\n",
        "                        add_special_tokens = True, # Add '[CLS]' and '[SEP]'\n",
        "                        max_length = 256,           # Pad & truncate all sentences.\n",
        "                        pad_to_max_length = True,\n",
        "                        return_attention_mask = True,   # Construct attn. masks.\n",
        "                        return_tensors = 'pt',     # Return pytorch tensors.\n",
        "                   )\n",
        "    \n",
        "    # Add the encoded sentence to the list.    \n",
        "    input_ids.append(encoded_dict['input_ids'])\n",
        "    \n",
        "    # And its attention mask (simply differentiates padding from non-padding).\n",
        "    attention_masks.append(encoded_dict['attention_mask'])\n",
        "\n",
        "# Convert the lists into tensors.\n",
        "input_ids = torch.cat(input_ids, dim=0)\n",
        "attention_masks = torch.cat(attention_masks, dim=0)\n",
        "labels = torch.tensor(labels)\n",
        "\n",
        "# Print sentence 0, now as a list of IDs.\n",
        "print('Original: ', documents[0])\n",
        "print('Token IDs:', input_ids[0])"
      ]
    },
    {
      "cell_type": "code",
      "execution_count": 12,
      "metadata": {
        "id": "0gwBiDea39Xt",
        "colab": {
          "base_uri": "https://localhost:8080/"
        },
        "outputId": "188d6c2b-c171-490b-ac7e-dbe69938412e"
      },
      "outputs": [
        {
          "output_type": "stream",
          "name": "stdout",
          "text": [
            "Original:  Cheryl:\r\n",
            "\r\n",
            "Are we in a good place to begin paperwork to bring Jen Davis up here on TDY in October?\r\n",
            "\r\n",
            "If so, I would recommend we ask her to report on October 29 and I will get the EX office to start the paperwork. She will be detailed to us for 90 days, which will enable her to receive funding for housing, meals + incidentals, etc., and this 90 day period will carry her through the end of the term on January 20, 2013. This schedule would give me 10 days or so of consultation before a desired departure for Vienna on November 14.\r\n",
            "\r\n",
            "I am not intent on rushing out to Vienna; the closer we get the more there is to be done, and we may not get ourselves \"packed out\" before we depart (not a wholly unwelcomed outcome, since we can set aside that task for December or January). But, if the elements are in place, Carol and I would like to go out mid-November in order to participate in IAEA meetings on November 26-30.\r\n",
            "\r\n",
            "My swearing-in ceremony is scheduled for November 9 at 10am on the 8th floor. Whatever plan we embrace, that date is set and Carol and I are eager for the day.\n",
            "Token IDs: tensor([    0,   347,  1843,  4360,    35, 50121, 50118, 50121, 50118, 13755,\n",
            "           52,    11,    10,   205,   317,     7,  1642, 14630,     7,   836,\n",
            "        13831,  2505,    62,   259,    15,  7463,   975,    11,   779,   116,\n",
            "        50121, 50118, 50121, 50118,  1106,    98,     6,    38,    74,  5940,\n",
            "           52,  1394,    69,     7,   266,    15,   779,  1132,     8,    38,\n",
            "           40,   120,     5, 10649,   558,     7,   386,     5, 14630,     4,\n",
            "          264,    40,    28,  4271,     7,   201,    13,  1814,   360,     6,\n",
            "           61,    40,  3155,    69,     7,  1325,  1435,    13,  2004,     6,\n",
            "         7317,  2055,  1160,  1536,     6,  4753,   482,     8,    42,  1814,\n",
            "          183,   675,    40,  2324,    69,   149,     5,   253,     9,     5,\n",
            "         1385,    15,   644,   291,     6,  1014,     4,   152,  3078,    74,\n",
            "          492,   162,   158,   360,    50,    98,     9,  9434,   137,    10,\n",
            "        12762,  5824,    13, 15534,    15,   759,   501,     4, 50121, 50118,\n",
            "        50121, 50118,   100,   524,    45,  5927,    15,  6404,    66,     7,\n",
            "        15534,   131,     5,  2789,    52,   120,     5,    55,    89,    16,\n",
            "            7,    28,   626,     6,     8,    52,   189,    45,   120,  4288,\n",
            "           22, 21330,    66,   113,   137,    52, 18770,    36,  3654,    10,\n",
            "        16123, 10963,   523, 40478,  4258,     6,   187,    52,    64,   278,\n",
            "         4364,    14,  3685,    13,   719,    50,   644,   322,   125,     6,\n",
            "          114,     5,  4785,    32,    11,   317,     6,  9347,     8,    38,\n",
            "           74,   101,     7,   213,    66,  1084,    12, 21206,    11,   645,\n",
            "            7,  4064,    11,    38, 16329,   250,  2891,    15,   759,   973,\n",
            "           12,   541,     4, 50121, 50118, 50121, 50118,  2387, 21854,    12,\n",
            "          179,  2844,    16,  1768,    13,   759,   361,    23,   158,   424,\n",
            "           15,     5,   290,   212,  1929,     4, 11999,   563,    52,  7962,\n",
            "            6,    14,  1248,    16,   278,     2])\n"
          ]
        }
      ],
      "source": [
        "print('Original: ', documents[0])\n",
        "print('Token IDs:', input_ids[0])"
      ]
    },
    {
      "cell_type": "code",
      "execution_count": 13,
      "metadata": {
        "id": "GEgLpFVlo1Z-"
      },
      "outputs": [],
      "source": [
        "from torch.utils.data import TensorDataset, random_split\n",
        "\n",
        "# Combine the training inputs into a TensorDataset.\n",
        "train_dataset = TensorDataset(input_ids, attention_masks, labels)"
      ]
    },
    {
      "cell_type": "code",
      "execution_count": 14,
      "metadata": {
        "id": "XGUqOCtgqGhP"
      },
      "outputs": [],
      "source": [
        "from torch.utils.data import DataLoader, RandomSampler, SequentialSampler\n",
        "\n",
        "# The DataLoader needs to know our batch size for training, so we specify it \n",
        "# here. For fine-tuning Roberta on a specific task, the authors recommend a batch \n",
        "# size of 16 or 32.\n",
        "batch_size = 32\n",
        "\n",
        "# Create the DataLoaders for our training and validation sets.\n",
        "# We'll take training samples in random order. \n",
        "train_dataloader = DataLoader(\n",
        "            train_dataset,  # The training samples.\n",
        "            sampler = RandomSampler(train_dataset), # Select batches randomly\n",
        "            batch_size = batch_size # Trains with this batch size.\n",
        "        )\n"
      ]
    },
    {
      "cell_type": "markdown",
      "metadata": {
        "id": "8bwa6Rts-02-"
      },
      "source": [
        "# 4. Train Our Classification Model"
      ]
    },
    {
      "cell_type": "markdown",
      "metadata": {
        "id": "3xYQ3iLO08SX"
      },
      "source": [
        "Now that our input data is properly formatted, it's time to fine tune the RoBERTa model. "
      ]
    },
    {
      "cell_type": "markdown",
      "metadata": {
        "id": "D6TKgyUzPIQc"
      },
      "source": [
        "## 4.1. RobertaForSequenceClassification"
      ]
    },
    {
      "cell_type": "code",
      "execution_count": 15,
      "metadata": {
        "id": "LY29sx854a2G"
      },
      "outputs": [],
      "source": [
        "import torch\n",
        "import torch.nn as nn\n",
        "from torch.autograd import Variable\n",
        "import torch.nn.functional as F\n",
        "import json\n",
        "from transformers import RobertaForSequenceClassification\n",
        "\n",
        "class RobertaSem(nn.Module):\n",
        "\n",
        "  def __init__(self):\n",
        "    super(RobertaSem, self).__init__()\n",
        "    self.Roberta_layer = RobertaForSequenceClassification.from_pretrained(\n",
        "          \"roberta-base\", \n",
        "          num_labels = 3,  \n",
        "          output_attentions = False,\n",
        "          output_hidden_states = False,\n",
        "      )\n",
        "\n",
        "  def forward(self, input_ids, attention_mask, token_type_ids=None, labels=None):\n",
        "    return self.Roberta_layer(input_ids=input_ids, token_type_ids=None, attention_mask=attention_mask, labels=labels, return_dict=True)\n"
      ]
    },
    {
      "cell_type": "code",
      "execution_count": 16,
      "metadata": {
        "colab": {
          "base_uri": "https://localhost:8080/"
        },
        "id": "gFsCTp_mporB",
        "outputId": "c8d99969-5887-41cb-ae01-f524dd9459d5"
      },
      "outputs": [
        {
          "output_type": "stream",
          "name": "stderr",
          "text": [
            "Some weights of the model checkpoint at roberta-base were not used when initializing RobertaForSequenceClassification: ['lm_head.dense.weight', 'lm_head.bias', 'roberta.pooler.dense.weight', 'lm_head.layer_norm.bias', 'lm_head.dense.bias', 'lm_head.decoder.weight', 'lm_head.layer_norm.weight', 'roberta.pooler.dense.bias']\n",
            "- This IS expected if you are initializing RobertaForSequenceClassification from the checkpoint of a model trained on another task or with another architecture (e.g. initializing a BertForSequenceClassification model from a BertForPreTraining model).\n",
            "- This IS NOT expected if you are initializing RobertaForSequenceClassification from the checkpoint of a model that you expect to be exactly identical (initializing a BertForSequenceClassification model from a BertForSequenceClassification model).\n",
            "Some weights of RobertaForSequenceClassification were not initialized from the model checkpoint at roberta-base and are newly initialized: ['classifier.dense.bias', 'classifier.out_proj.bias', 'classifier.dense.weight', 'classifier.out_proj.weight']\n",
            "You should probably TRAIN this model on a down-stream task to be able to use it for predictions and inference.\n"
          ]
        }
      ],
      "source": [
        "from transformers import RobertaForSequenceClassification, AdamW, RobertaConfig\n",
        "\n",
        "# Load RoBertForSequenceClassification, the pretrained Roberta model with a single \n",
        "# linear classification layer on top. \n",
        "model = RobertaSem()\n",
        "# Tell pytorch to run this model on the GPU.\n",
        "model = model.to(device)"
      ]
    },
    {
      "cell_type": "code",
      "execution_count": 17,
      "metadata": {
        "id": "8PIiVlDYCtSq",
        "colab": {
          "base_uri": "https://localhost:8080/"
        },
        "outputId": "ec896f9f-bb20-4d92-9d8d-e0be14286bbe"
      },
      "outputs": [
        {
          "output_type": "stream",
          "name": "stdout",
          "text": [
            "The Roberta model has 201 different named parameters.\n",
            "\n",
            "==== Embedding Layer ====\n",
            "\n",
            "Roberta_layer.roberta.embeddings.word_embeddings.weight (50265, 768)\n",
            "Roberta_layer.roberta.embeddings.position_embeddings.weight   (514, 768)\n",
            "Roberta_layer.roberta.embeddings.token_type_embeddings.weight     (1, 768)\n",
            "Roberta_layer.roberta.embeddings.LayerNorm.weight             (768,)\n",
            "Roberta_layer.roberta.embeddings.LayerNorm.bias               (768,)\n",
            "\n",
            "==== First Transformer ====\n",
            "\n",
            "Roberta_layer.roberta.encoder.layer.0.attention.self.query.weight   (768, 768)\n",
            "Roberta_layer.roberta.encoder.layer.0.attention.self.query.bias       (768,)\n",
            "Roberta_layer.roberta.encoder.layer.0.attention.self.key.weight   (768, 768)\n",
            "Roberta_layer.roberta.encoder.layer.0.attention.self.key.bias       (768,)\n",
            "Roberta_layer.roberta.encoder.layer.0.attention.self.value.weight   (768, 768)\n",
            "Roberta_layer.roberta.encoder.layer.0.attention.self.value.bias       (768,)\n",
            "Roberta_layer.roberta.encoder.layer.0.attention.output.dense.weight   (768, 768)\n",
            "Roberta_layer.roberta.encoder.layer.0.attention.output.dense.bias       (768,)\n",
            "Roberta_layer.roberta.encoder.layer.0.attention.output.LayerNorm.weight       (768,)\n",
            "Roberta_layer.roberta.encoder.layer.0.attention.output.LayerNorm.bias       (768,)\n",
            "Roberta_layer.roberta.encoder.layer.0.intermediate.dense.weight  (3072, 768)\n",
            "Roberta_layer.roberta.encoder.layer.0.intermediate.dense.bias      (3072,)\n",
            "Roberta_layer.roberta.encoder.layer.0.output.dense.weight  (768, 3072)\n",
            "Roberta_layer.roberta.encoder.layer.0.output.dense.bias       (768,)\n",
            "Roberta_layer.roberta.encoder.layer.0.output.LayerNorm.weight       (768,)\n",
            "Roberta_layer.roberta.encoder.layer.0.output.LayerNorm.bias       (768,)\n",
            "\n",
            "==== Output Layer ====\n",
            "\n",
            "Roberta_layer.classifier.dense.weight                     (768, 768)\n",
            "Roberta_layer.classifier.dense.bias                           (768,)\n",
            "Roberta_layer.classifier.out_proj.weight                    (3, 768)\n",
            "Roberta_layer.classifier.out_proj.bias                          (3,)\n"
          ]
        }
      ],
      "source": [
        "# Get all of the model's parameters as a list of tuples.\n",
        "params = list(model.named_parameters())\n",
        "\n",
        "print('The Roberta model has {:} different named parameters.\\n'.format(len(params)))\n",
        "\n",
        "print('==== Embedding Layer ====\\n')\n",
        "\n",
        "for p in params[0:5]:\n",
        "    print(\"{:<55} {:>12}\".format(p[0], str(tuple(p[1].size()))))\n",
        "\n",
        "print('\\n==== First Transformer ====\\n')\n",
        "\n",
        "for p in params[5:21]:\n",
        "    print(\"{:<55} {:>12}\".format(p[0], str(tuple(p[1].size()))))\n",
        "\n",
        "print('\\n==== Output Layer ====\\n')\n",
        "\n",
        "for p in params[-4:]:\n",
        "    print(\"{:<55} {:>12}\".format(p[0], str(tuple(p[1].size()))))"
      ]
    },
    {
      "cell_type": "markdown",
      "metadata": {
        "id": "qRWT-D4U_Pvx"
      },
      "source": [
        "## 4.2. Optimizer & Learning Rate Scheduler"
      ]
    },
    {
      "cell_type": "code",
      "execution_count": 18,
      "metadata": {
        "colab": {
          "base_uri": "https://localhost:8080/"
        },
        "id": "GLs72DuMODJO",
        "outputId": "72649252-5b22-4822-8943-b0bdf1fec1f5"
      },
      "outputs": [
        {
          "output_type": "stream",
          "name": "stderr",
          "text": [
            "/usr/local/lib/python3.8/dist-packages/transformers/optimization.py:306: FutureWarning: This implementation of AdamW is deprecated and will be removed in a future version. Use the PyTorch implementation torch.optim.AdamW instead, or set `no_deprecation_warning=True` to disable this warning\n",
            "  warnings.warn(\n"
          ]
        }
      ],
      "source": [
        "# Note: AdamW is a class from the huggingface library (as opposed to pytorch) \n",
        "# I believe the 'W' stands for 'Weight Decay fix\"\n",
        "optimizer = AdamW(model.parameters(),\n",
        "                  lr = 2e-5, # args.learning_rate - default is 5e-5, our notebook had 2e-5\n",
        "                  eps = 1e-8 # args.adam_epsilon  - default is 1e-8.\n",
        "                )\n"
      ]
    },
    {
      "cell_type": "code",
      "execution_count": 19,
      "metadata": {
        "id": "-p0upAhhRiIx"
      },
      "outputs": [],
      "source": [
        "from transformers import get_linear_schedule_with_warmup\n",
        "\n",
        "# Number of training epochs. The Roberta authors recommend between 2 and 4. \n",
        "# We chose to run for 4, but we'll see later that this may be over-fitting the\n",
        "# training data.\n",
        "epochs = 3\n",
        "\n",
        "# Total number of training steps is [number of batches] x [number of epochs]. \n",
        "# (Note that this is not the same as the number of training samples).\n",
        "total_steps = len(train_dataloader) * epochs\n",
        "\n",
        "# Create the learning rate scheduler.\n",
        "scheduler = get_linear_schedule_with_warmup(optimizer, \n",
        "                                            num_warmup_steps = 0, # Default value in run_glue.py\n",
        "                                            num_training_steps = total_steps)"
      ]
    },
    {
      "cell_type": "markdown",
      "metadata": {
        "id": "KNhRtWPXH9C3"
      },
      "source": [
        "Helper function for formatting elapsed times as `hh:mm:ss`\n"
      ]
    },
    {
      "cell_type": "code",
      "execution_count": 20,
      "metadata": {
        "id": "gpt6tR83keZD"
      },
      "outputs": [],
      "source": [
        "import time\n",
        "import datetime\n",
        "\n",
        "def format_time(elapsed):\n",
        "    '''\n",
        "    Takes a time in seconds and returns a string hh:mm:ss\n",
        "    '''\n",
        "    # Round to the nearest second.\n",
        "    elapsed_rounded = int(round((elapsed)))\n",
        "    \n",
        "    # Format as hh:mm:ss\n",
        "    return str(datetime.timedelta(seconds=elapsed_rounded))\n"
      ]
    },
    {
      "cell_type": "markdown",
      "metadata": {
        "id": "cfNIhN19te3N"
      },
      "source": [
        "We're ready to kick off the training!"
      ]
    },
    {
      "cell_type": "code",
      "execution_count": 21,
      "metadata": {
        "id": "LjHZVFgzAN3G"
      },
      "outputs": [],
      "source": [
        "from sklearn.model_selection import StratifiedKFold\n",
        "\n",
        "kfold = StratifiedKFold(n_splits = 5, shuffle = False)"
      ]
    },
    {
      "cell_type": "code",
      "execution_count": 22,
      "metadata": {
        "id": "8Fe_3rZ5FZKt"
      },
      "outputs": [],
      "source": [
        "from sklearn.metrics import accuracy_score\n",
        "from sklearn import metrics\n",
        "\n",
        "def eval_docs(prediction_dataloader):\n",
        "  # Prediction on test set\n",
        "  # Put model in evaluation mode\n",
        "  model.eval()\n",
        "\n",
        "  # Tracking variables \n",
        "  predictions , true_labels = [], []\n",
        "\n",
        "  # Predict \n",
        "  for batch in prediction_dataloader:\n",
        "      # Add batch to GPU\n",
        "      batch = tuple(t.to(device) for t in batch)\n",
        "    \n",
        "      # Unpack the inputs from our dataloader\n",
        "      b_input_ids, b_input_mask, b_labels = batch\n",
        "      \n",
        "      # Telling the model not to compute or store gradients, saving memory and \n",
        "      # speeding up prediction\n",
        "      with torch.no_grad():\n",
        "          # Forward pass, calculate logit predictions.\n",
        "          result = model(b_input_ids, \n",
        "                        token_type_ids=None, \n",
        "                        attention_mask=b_input_mask,\n",
        "                        )\n",
        "      results = F.softmax(result.logits, dim=0)\n",
        "\n",
        "      logits = results\n",
        "\n",
        "      # Move logits and labels to CPU\n",
        "      logits = logits.detach().cpu().numpy()\n",
        "      label_ids = b_labels.to('cpu').numpy()\n",
        "      # Store predictions and true labels\n",
        "      predictions.extend(list(np.argmax(logits, axis=1)))\n",
        "      true_labels.extend(label_ids)\n",
        "\n",
        "  matrix = metrics.confusion_matrix(true_labels, predictions, labels=[0, 1, 2])\n",
        "  print(matrix)\n",
        "  sum = np.sum(matrix)\n",
        "  acc_low = (matrix[0][0] + matrix[1][1] + matrix[1][2] + matrix[2][1] + matrix [2][2])/(sum) #exactitude relative à la classe low\n",
        "  acc_medium = (matrix[0][0] + matrix[1][1] + matrix[0][2] + matrix[2][0] + matrix [2][2])/(sum) #exactitude relative à la classe medium\n",
        "  acc_high = (matrix[0][0] + matrix[1][1] + matrix[0][1] + matrix[1][0] + matrix [2][2])/(sum) #exactitude relative à la classe high\n",
        "\n",
        "  accuracy = accuracy_score(predictions, true_labels)\n",
        "  print(\"Accuracy :\")\n",
        "  print(accuracy)\n",
        "  print(\"Accuracy low :\")\n",
        "  print(acc_low)  \n",
        "  print(\"Accuracy medium :\")\n",
        "  print(acc_medium) \n",
        "  print(\"Accuracy high :\")\n",
        "  print(acc_high) \n",
        "  print(\"Average accuracy :\")\n",
        "  print((acc_low + acc_medium + acc_high)/3) \n",
        "  print(\"Classification report :\")\n",
        "  print(metrics.classification_report(true_labels, predictions, labels=[0, 1, 2], zero_division=1))\n",
        "\n",
        "  print('    DONE.')\n",
        "  return accuracy"
      ]
    },
    {
      "cell_type": "code",
      "execution_count": 23,
      "metadata": {
        "id": "6J-FYdx6nFE_",
        "colab": {
          "base_uri": "https://localhost:8080/"
        },
        "outputId": "bc3ae2e4-e71a-46e3-dc45-1fcb0c571da6"
      },
      "outputs": [
        {
          "output_type": "stream",
          "name": "stdout",
          "text": [
            "\n",
            "======== Epoch 1 / 3 ========\n",
            "Training...\n",
            "  Batch    40  of    120.    Elapsed: 0:00:59.\n",
            "  Batch    80  of    120.    Elapsed: 0:01:55.\n",
            "\n",
            "  Average training loss: 0.95\n",
            "  Training epcoh took: 0:02:51\n",
            "[[150  98  62]\n",
            " [ 37  76  80]\n",
            " [ 24  81 352]]\n",
            "Accuracy :\n",
            "0.6020833333333333\n",
            "Accuracy low :\n",
            "0.7697916666666667\n",
            "Accuracy medium :\n",
            "0.6916666666666667\n",
            "Accuracy high :\n",
            "0.7427083333333333\n",
            "Average accuracy :\n",
            "0.7347222222222222\n",
            "Classification report :\n",
            "              precision    recall  f1-score   support\n",
            "\n",
            "           0       0.71      0.48      0.58       310\n",
            "           1       0.30      0.39      0.34       193\n",
            "           2       0.71      0.77      0.74       457\n",
            "\n",
            "    accuracy                           0.60       960\n",
            "   macro avg       0.57      0.55      0.55       960\n",
            "weighted avg       0.63      0.60      0.61       960\n",
            "\n",
            "    DONE.\n",
            "  Batch    40  of    120.    Elapsed: 0:03:59.\n",
            "  Batch    80  of    120.    Elapsed: 0:04:54.\n",
            "\n",
            "  Average training loss: 1.77\n",
            "  Training epcoh took: 0:05:47\n",
            "[[169 123  19]\n",
            " [ 32 117  44]\n",
            " [ 16 144 296]]\n",
            "Accuracy :\n",
            "0.60625\n",
            "Accuracy low :\n",
            "0.8020833333333334\n",
            "Accuracy medium :\n",
            "0.6427083333333333\n",
            "Accuracy high :\n",
            "0.7677083333333333\n",
            "Average accuracy :\n",
            "0.7374999999999999\n",
            "Classification report :\n",
            "              precision    recall  f1-score   support\n",
            "\n",
            "           0       0.78      0.54      0.64       311\n",
            "           1       0.30      0.61      0.41       193\n",
            "           2       0.82      0.65      0.73       456\n",
            "\n",
            "    accuracy                           0.61       960\n",
            "   macro avg       0.64      0.60      0.59       960\n",
            "weighted avg       0.71      0.61      0.63       960\n",
            "\n",
            "    DONE.\n",
            "  Batch    40  of    120.    Elapsed: 0:06:56.\n",
            "  Batch    80  of    120.    Elapsed: 0:07:51.\n",
            "\n",
            "  Average training loss: 2.48\n",
            "  Training epcoh took: 0:08:45\n",
            "[[253  52   6]\n",
            " [ 43 136  14]\n",
            " [ 19 193 244]]\n",
            "Accuracy :\n",
            "0.659375\n",
            "Accuracy low :\n",
            "0.875\n",
            "Accuracy medium :\n",
            "0.6854166666666667\n",
            "Accuracy high :\n",
            "0.7583333333333333\n",
            "Average accuracy :\n",
            "0.7729166666666667\n",
            "Classification report :\n",
            "              precision    recall  f1-score   support\n",
            "\n",
            "           0       0.80      0.81      0.81       311\n",
            "           1       0.36      0.70      0.47       193\n",
            "           2       0.92      0.54      0.68       456\n",
            "\n",
            "    accuracy                           0.66       960\n",
            "   macro avg       0.69      0.68      0.65       960\n",
            "weighted avg       0.77      0.66      0.68       960\n",
            "\n",
            "    DONE.\n",
            "  Batch    40  of    120.    Elapsed: 0:09:54.\n",
            "  Batch    80  of    120.    Elapsed: 0:10:48.\n",
            "\n",
            "  Average training loss: 3.10\n",
            "  Training epcoh took: 0:11:42\n",
            "[[204 103   4]\n",
            " [ 17 161  14]\n",
            " [  7 139 311]]\n",
            "Accuracy :\n",
            "0.7041666666666667\n",
            "Accuracy low :\n",
            "0.8635416666666667\n",
            "Accuracy medium :\n",
            "0.715625\n",
            "Accuracy high :\n",
            "0.8291666666666667\n",
            "Average accuracy :\n",
            "0.8027777777777777\n",
            "Classification report :\n",
            "              precision    recall  f1-score   support\n",
            "\n",
            "           0       0.89      0.66      0.76       311\n",
            "           1       0.40      0.84      0.54       192\n",
            "           2       0.95      0.68      0.79       457\n",
            "\n",
            "    accuracy                           0.70       960\n",
            "   macro avg       0.75      0.73      0.70       960\n",
            "weighted avg       0.82      0.70      0.73       960\n",
            "\n",
            "    DONE.\n",
            "  Batch    40  of    120.    Elapsed: 0:12:51.\n",
            "  Batch    80  of    120.    Elapsed: 0:13:45.\n",
            "\n",
            "  Average training loss: 3.69\n",
            "  Training epcoh took: 0:14:39\n",
            "[[202 108   1]\n",
            " [ 19 154  19]\n",
            " [  4 148 305]]\n",
            "Accuracy :\n",
            "0.6885416666666667\n",
            "Accuracy low :\n",
            "0.8625\n",
            "Accuracy medium :\n",
            "0.69375\n",
            "Accuracy high :\n",
            "0.8208333333333333\n",
            "Average accuracy :\n",
            "0.7923611111111111\n",
            "Classification report :\n",
            "              precision    recall  f1-score   support\n",
            "\n",
            "           0       0.90      0.65      0.75       311\n",
            "           1       0.38      0.80      0.51       192\n",
            "           2       0.94      0.67      0.78       457\n",
            "\n",
            "    accuracy                           0.69       960\n",
            "   macro avg       0.74      0.71      0.68       960\n",
            "weighted avg       0.81      0.69      0.72       960\n",
            "\n",
            "    DONE.\n",
            "\n",
            "======== Epoch 2 / 3 ========\n",
            "Training...\n",
            "  Batch    40  of    120.    Elapsed: 0:00:56.\n",
            "  Batch    80  of    120.    Elapsed: 0:01:52.\n",
            "\n",
            "  Average training loss: 0.88\n",
            "  Training epcoh took: 0:02:48\n",
            "[[202 103   5]\n",
            " [ 15 160  18]\n",
            " [  5 146 306]]\n",
            "Accuracy :\n",
            "0.6958333333333333\n",
            "Accuracy low :\n",
            "0.8666666666666667\n",
            "Accuracy medium :\n",
            "0.70625\n",
            "Accuracy high :\n",
            "0.81875\n",
            "Average accuracy :\n",
            "0.7972222222222222\n",
            "Classification report :\n",
            "              precision    recall  f1-score   support\n",
            "\n",
            "           0       0.91      0.65      0.76       310\n",
            "           1       0.39      0.83      0.53       193\n",
            "           2       0.93      0.67      0.78       457\n",
            "\n",
            "    accuracy                           0.70       960\n",
            "   macro avg       0.74      0.72      0.69       960\n",
            "weighted avg       0.82      0.70      0.72       960\n",
            "\n",
            "    DONE.\n",
            "  Batch    40  of    120.    Elapsed: 0:03:56.\n",
            "  Batch    80  of    120.    Elapsed: 0:04:50.\n",
            "\n",
            "  Average training loss: 1.45\n",
            "  Training epcoh took: 0:05:44\n",
            "[[190 116   5]\n",
            " [ 26 142  25]\n",
            " [  7 162 287]]\n",
            "Accuracy :\n",
            "0.6447916666666667\n",
            "Accuracy low :\n",
            "0.8395833333333333\n",
            "Accuracy medium :\n",
            "0.6572916666666667\n",
            "Accuracy high :\n",
            "0.7927083333333333\n",
            "Average accuracy :\n",
            "0.7631944444444446\n",
            "Classification report :\n",
            "              precision    recall  f1-score   support\n",
            "\n",
            "           0       0.85      0.61      0.71       311\n",
            "           1       0.34      0.74      0.46       193\n",
            "           2       0.91      0.63      0.74       456\n",
            "\n",
            "    accuracy                           0.64       960\n",
            "   macro avg       0.70      0.66      0.64       960\n",
            "weighted avg       0.77      0.64      0.68       960\n",
            "\n",
            "    DONE.\n",
            "  Batch    40  of    120.    Elapsed: 0:06:53.\n",
            "  Batch    80  of    120.    Elapsed: 0:07:47.\n",
            "\n",
            "  Average training loss: 2.02\n",
            "  Training epcoh took: 0:08:42\n",
            "[[218  88   5]\n",
            " [ 32 144  17]\n",
            " [  9 167 280]]\n",
            "Accuracy :\n",
            "0.66875\n",
            "Accuracy low :\n",
            "0.8604166666666667\n",
            "Accuracy medium :\n",
            "0.6833333333333333\n",
            "Accuracy high :\n",
            "0.79375\n",
            "Average accuracy :\n",
            "0.7791666666666668\n",
            "Classification report :\n",
            "              precision    recall  f1-score   support\n",
            "\n",
            "           0       0.84      0.70      0.76       311\n",
            "           1       0.36      0.75      0.49       193\n",
            "           2       0.93      0.61      0.74       456\n",
            "\n",
            "    accuracy                           0.67       960\n",
            "   macro avg       0.71      0.69      0.66       960\n",
            "weighted avg       0.79      0.67      0.70       960\n",
            "\n",
            "    DONE.\n",
            "  Batch    40  of    120.    Elapsed: 0:09:50.\n",
            "  Batch    80  of    120.    Elapsed: 0:10:44.\n",
            "\n",
            "  Average training loss: 2.61\n",
            "  Training epcoh took: 0:11:38\n",
            "[[192 113   6]\n",
            " [ 16 162  14]\n",
            " [  4 145 308]]\n",
            "Accuracy :\n",
            "0.6895833333333333\n",
            "Accuracy low :\n",
            "0.8552083333333333\n",
            "Accuracy medium :\n",
            "0.7\n",
            "Accuracy high :\n",
            "0.8239583333333333\n",
            "Average accuracy :\n",
            "0.7930555555555555\n",
            "Classification report :\n",
            "              precision    recall  f1-score   support\n",
            "\n",
            "           0       0.91      0.62      0.73       311\n",
            "           1       0.39      0.84      0.53       192\n",
            "           2       0.94      0.67      0.78       457\n",
            "\n",
            "    accuracy                           0.69       960\n",
            "   macro avg       0.74      0.71      0.68       960\n",
            "weighted avg       0.82      0.69      0.72       960\n",
            "\n",
            "    DONE.\n",
            "  Batch    40  of    120.    Elapsed: 0:12:47.\n",
            "  Batch    80  of    120.    Elapsed: 0:13:41.\n",
            "\n",
            "  Average training loss: 3.20\n",
            "  Training epcoh took: 0:14:35\n",
            "[[211  99   1]\n",
            " [ 24 151  17]\n",
            " [  3 152 302]]\n",
            "Accuracy :\n",
            "0.6916666666666667\n",
            "Accuracy low :\n",
            "0.8677083333333333\n",
            "Accuracy medium :\n",
            "0.6958333333333333\n",
            "Accuracy high :\n",
            "0.8197916666666667\n",
            "Average accuracy :\n",
            "0.7944444444444444\n",
            "Classification report :\n",
            "              precision    recall  f1-score   support\n",
            "\n",
            "           0       0.89      0.68      0.77       311\n",
            "           1       0.38      0.79      0.51       192\n",
            "           2       0.94      0.66      0.78       457\n",
            "\n",
            "    accuracy                           0.69       960\n",
            "   macro avg       0.74      0.71      0.68       960\n",
            "weighted avg       0.81      0.69      0.72       960\n",
            "\n",
            "    DONE.\n",
            "\n",
            "======== Epoch 3 / 3 ========\n",
            "Training...\n",
            "  Batch    40  of    120.    Elapsed: 0:00:56.\n",
            "  Batch    80  of    120.    Elapsed: 0:01:52.\n",
            "\n",
            "  Average training loss: 0.87\n",
            "  Training epcoh took: 0:02:48\n",
            "[[198 109   3]\n",
            " [ 17 160  16]\n",
            " [  6 147 304]]\n",
            "Accuracy :\n",
            "0.6895833333333333\n",
            "Accuracy low :\n",
            "0.859375\n",
            "Accuracy medium :\n",
            "0.6989583333333333\n",
            "Accuracy high :\n",
            "0.8208333333333333\n",
            "Average accuracy :\n",
            "0.7930555555555555\n",
            "Classification report :\n",
            "              precision    recall  f1-score   support\n",
            "\n",
            "           0       0.90      0.64      0.75       310\n",
            "           1       0.38      0.83      0.53       193\n",
            "           2       0.94      0.67      0.78       457\n",
            "\n",
            "    accuracy                           0.69       960\n",
            "   macro avg       0.74      0.71      0.68       960\n",
            "weighted avg       0.81      0.69      0.72       960\n",
            "\n",
            "    DONE.\n",
            "  Batch    40  of    120.    Elapsed: 0:03:56.\n",
            "  Batch    80  of    120.    Elapsed: 0:04:50.\n",
            "\n",
            "  Average training loss: 1.44\n",
            "  Training epcoh took: 0:05:44\n",
            "[[194 113   4]\n",
            " [ 20 149  24]\n",
            " [  9 170 277]]\n",
            "Accuracy :\n",
            "0.6458333333333334\n",
            "Accuracy low :\n",
            "0.8479166666666667\n",
            "Accuracy medium :\n",
            "0.659375\n",
            "Accuracy high :\n",
            "0.784375\n",
            "Average accuracy :\n",
            "0.763888888888889\n",
            "Classification report :\n",
            "              precision    recall  f1-score   support\n",
            "\n",
            "           0       0.87      0.62      0.73       311\n",
            "           1       0.34      0.77      0.48       193\n",
            "           2       0.91      0.61      0.73       456\n",
            "\n",
            "    accuracy                           0.65       960\n",
            "   macro avg       0.71      0.67      0.64       960\n",
            "weighted avg       0.78      0.65      0.68       960\n",
            "\n",
            "    DONE.\n",
            "  Batch    40  of    120.    Elapsed: 0:06:53.\n",
            "  Batch    80  of    120.    Elapsed: 0:07:47.\n",
            "\n",
            "  Average training loss: 2.02\n",
            "  Training epcoh took: 0:08:42\n",
            "[[222  83   6]\n",
            " [ 28 143  22]\n",
            " [ 11 162 283]]\n",
            "Accuracy :\n",
            "0.675\n",
            "Accuracy low :\n",
            "0.8666666666666667\n",
            "Accuracy medium :\n",
            "0.6927083333333334\n",
            "Accuracy high :\n",
            "0.790625\n",
            "Average accuracy :\n",
            "0.7833333333333333\n",
            "Classification report :\n",
            "              precision    recall  f1-score   support\n",
            "\n",
            "           0       0.85      0.71      0.78       311\n",
            "           1       0.37      0.74      0.49       193\n",
            "           2       0.91      0.62      0.74       456\n",
            "\n",
            "    accuracy                           0.68       960\n",
            "   macro avg       0.71      0.69      0.67       960\n",
            "weighted avg       0.78      0.68      0.70       960\n",
            "\n",
            "    DONE.\n",
            "  Batch    40  of    120.    Elapsed: 0:09:50.\n",
            "  Batch    80  of    120.    Elapsed: 0:10:44.\n",
            "\n",
            "  Average training loss: 2.60\n",
            "  Training epcoh took: 0:11:38\n",
            "[[206 101   4]\n",
            " [ 16 162  14]\n",
            " [  9 141 307]]\n",
            "Accuracy :\n",
            "0.703125\n",
            "Accuracy low :\n",
            "0.8645833333333334\n",
            "Accuracy medium :\n",
            "0.7166666666666667\n",
            "Accuracy high :\n",
            "0.825\n",
            "Average accuracy :\n",
            "0.8020833333333334\n",
            "Classification report :\n",
            "              precision    recall  f1-score   support\n",
            "\n",
            "           0       0.89      0.66      0.76       311\n",
            "           1       0.40      0.84      0.54       192\n",
            "           2       0.94      0.67      0.79       457\n",
            "\n",
            "    accuracy                           0.70       960\n",
            "   macro avg       0.75      0.73      0.70       960\n",
            "weighted avg       0.82      0.70      0.73       960\n",
            "\n",
            "    DONE.\n",
            "  Batch    40  of    120.    Elapsed: 0:12:47.\n",
            "  Batch    80  of    120.    Elapsed: 0:13:41.\n",
            "\n",
            "  Average training loss: 3.19\n",
            "  Training epcoh took: 0:14:35\n",
            "[[210 100   1]\n",
            " [ 25 146  21]\n",
            " [  3 148 306]]\n",
            "Accuracy :\n",
            "0.6895833333333333\n",
            "Accuracy low :\n",
            "0.865625\n",
            "Accuracy medium :\n",
            "0.69375\n",
            "Accuracy high :\n",
            "0.8197916666666667\n",
            "Average accuracy :\n",
            "0.7930555555555555\n",
            "Classification report :\n",
            "              precision    recall  f1-score   support\n",
            "\n",
            "           0       0.88      0.68      0.77       311\n",
            "           1       0.37      0.76      0.50       192\n",
            "           2       0.93      0.67      0.78       457\n",
            "\n",
            "    accuracy                           0.69       960\n",
            "   macro avg       0.73      0.70      0.68       960\n",
            "weighted avg       0.80      0.69      0.72       960\n",
            "\n",
            "    DONE.\n",
            "\n",
            "Training complete!\n",
            "Total training took 0:44:33 (h:mm:ss)\n",
            "==================== BEST TEST ACCURACY =================================\n",
            "0.7041666666666667\n"
          ]
        }
      ],
      "source": [
        "import random\n",
        "import numpy as np\n",
        "import torch.nn.functional as F\n",
        "import torch.utils.data as d\n",
        "import sys\n",
        "\n",
        "\n",
        "# Set the seed value all over the place to make this reproducible.\n",
        "seed_val = 42 \n",
        "best_test_acc = 0\n",
        "\n",
        "random.seed(seed_val)\n",
        "np.random.seed(seed_val)\n",
        "torch.manual_seed(seed_val)\n",
        "torch.cuda.manual_seed_all(seed_val)\n",
        "\n",
        "# We'll store a number of quantities such as training and validation loss, \n",
        "# validation accuracy, and timings.\n",
        "training_stats = []\n",
        "\n",
        "# Measure the total training time for the whole run.\n",
        "total_t0 = time.time()\n",
        "\n",
        "# For each epoch...\n",
        "for epoch_i in range(0, epochs):\n",
        "    \n",
        "    # ========================================\n",
        "    #               Training\n",
        "    # ========================================\n",
        "    \n",
        "    # Perform one full pass over the training set.\n",
        "\n",
        "    print(\"\")\n",
        "    print('======== Epoch {:} / {:} ========'.format(epoch_i + 1, epochs))\n",
        "    print('Training...')\n",
        "\n",
        "    # Measure how long the training epoch takes.\n",
        "    t0 = time.time()\n",
        "\n",
        "    # Reset the total loss for this epoch.\n",
        "    total_train_loss = 0\n",
        "\n",
        "    CUDA_LAUNCH_BLOCKING=1\n",
        "    # Put the model into training mode\n",
        "    model.train()\n",
        "\n",
        "    for fold, (train, test) in enumerate(kfold.split(train_dataset, labels)):\n",
        "      train_subsampler = d.SubsetRandomSampler(train)\n",
        "      test_subsampler = d.SubsetRandomSampler(test)\n",
        "\n",
        "      trainloader = DataLoader(\n",
        "                train_dataset, \n",
        "                batch_size=batch_size, sampler=train_subsampler)\n",
        "      testloader = torch.utils.data.DataLoader(\n",
        "                train_dataset,\n",
        "                batch_size=batch_size, sampler=test_subsampler)\n",
        "  # For each batch of training data...\n",
        "      for step, batch in enumerate(trainloader):\n",
        "\n",
        "          # Progress update every 40 batches.\n",
        "          if step % 40 == 0 and not step == 0:\n",
        "              # Calculate elapsed time in minutes.\n",
        "              elapsed = format_time(time.time() - t0)\n",
        "              \n",
        "              # Report progress.\n",
        "              print('  Batch {:>5,}  of  {:>5,}.    Elapsed: {:}.'.format(step, len(trainloader), elapsed))\n",
        "\n",
        "          # Unpack this training batch from our dataloader. \n",
        "          b_input_ids = batch[0].to(device)\n",
        "          b_input_mask = batch[1].to(device)\n",
        "          b_labels = batch[2].to(device)\n",
        "\n",
        "          # Always clear any previously calculated gradients before performing a\n",
        "          # backward pass.\n",
        "          model.zero_grad()        \n",
        "\n",
        "          # Perform a forward pass (evaluate the model on this training batch).\n",
        "          result = model(b_input_ids, \n",
        "                      token_type_ids=None, \n",
        "                      attention_mask=b_input_mask, \n",
        "                      labels=b_labels,\n",
        "                      )\n",
        "          results = F.softmax(result.logits, dim=0)\n",
        "          loss = result.loss\n",
        "          logits = results\n",
        "\n",
        "          # Accumulate the training loss over all of the batches so that we can\n",
        "          # calculate the average loss at the end.\n",
        "          total_train_loss += loss.item()\n",
        "\n",
        "          # Perform a backward pass to calculate the gradients.\n",
        "          loss.backward()\n",
        "\n",
        "          torch.nn.utils.clip_grad_norm_(model.parameters(), 1.0)\n",
        "\n",
        "          # Update parameters and take a step using the computed gradient.\n",
        "          optimizer.step()\n",
        "\n",
        "          # Update the learning rate.\n",
        "          scheduler.step()\n",
        "\n",
        "      # Calculate the average loss over all of the batches.\n",
        "      avg_train_loss = total_train_loss / len(trainloader)            \n",
        "      \n",
        "      # Measure how long this epoch took.\n",
        "      training_time = format_time(time.time() - t0)\n",
        "\n",
        "      print(\"\")\n",
        "      print(\"  Average training loss: {0:.2f}\".format(avg_train_loss))\n",
        "      print(\"  Training epcoh took: {:}\".format(training_time))\n",
        "\n",
        "          # Record all statistics from this epoch.\n",
        "      training_stats.append(\n",
        "          {\n",
        "              'epoch': epoch_i + 1,\n",
        "              'Training Loss': avg_train_loss,\n",
        "              'Training Time': training_time,\n",
        "          }\n",
        "      )\n",
        "      test_accuracy = eval_docs(testloader)\n",
        "      if test_accuracy > best_test_acc:\n",
        "        best_test_acc = test_accuracy\n",
        "\n",
        "print(\"\")\n",
        "print(\"Training complete!\")\n",
        "\n",
        "print(\"Total training took {:} (h:mm:ss)\".format(format_time(time.time()-total_t0)))\n",
        "\n",
        "print(\"==================== BEST TEST ACCURACY =================================\")\n",
        "print(best_test_acc)"
      ]
    },
    {
      "cell_type": "markdown",
      "metadata": {
        "id": "VQTvJ1vRP7u4"
      },
      "source": [
        "Let's view the summary of the training process."
      ]
    },
    {
      "cell_type": "code",
      "execution_count": 24,
      "metadata": {
        "id": "6O_NbXFGMukX",
        "colab": {
          "base_uri": "https://localhost:8080/",
          "height": 551
        },
        "outputId": "af0ff0ac-8c51-494d-cd84-53285b5de871"
      },
      "outputs": [
        {
          "output_type": "execute_result",
          "data": {
            "text/plain": [
              "       Training Loss Training Time\n",
              "epoch                             \n",
              "1               0.95       0:02:51\n",
              "1               1.77       0:05:47\n",
              "1               2.48       0:08:45\n",
              "1               3.10       0:11:42\n",
              "1               3.69       0:14:39\n",
              "2               0.88       0:02:48\n",
              "2               1.45       0:05:44\n",
              "2               2.02       0:08:42\n",
              "2               2.61       0:11:38\n",
              "2               3.20       0:14:35\n",
              "3               0.87       0:02:48\n",
              "3               1.44       0:05:44\n",
              "3               2.02       0:08:42\n",
              "3               2.60       0:11:38\n",
              "3               3.19       0:14:35"
            ],
            "text/html": [
              "\n",
              "  <div id=\"df-43f610ff-15be-41a3-b2eb-98eef537987f\">\n",
              "    <div class=\"colab-df-container\">\n",
              "      <div>\n",
              "<style scoped>\n",
              "    .dataframe tbody tr th:only-of-type {\n",
              "        vertical-align: middle;\n",
              "    }\n",
              "\n",
              "    .dataframe tbody tr th {\n",
              "        vertical-align: top;\n",
              "    }\n",
              "\n",
              "    .dataframe thead th {\n",
              "        text-align: right;\n",
              "    }\n",
              "</style>\n",
              "<table border=\"1\" class=\"dataframe\">\n",
              "  <thead>\n",
              "    <tr style=\"text-align: right;\">\n",
              "      <th></th>\n",
              "      <th>Training Loss</th>\n",
              "      <th>Training Time</th>\n",
              "    </tr>\n",
              "    <tr>\n",
              "      <th>epoch</th>\n",
              "      <th></th>\n",
              "      <th></th>\n",
              "    </tr>\n",
              "  </thead>\n",
              "  <tbody>\n",
              "    <tr>\n",
              "      <th>1</th>\n",
              "      <td>0.95</td>\n",
              "      <td>0:02:51</td>\n",
              "    </tr>\n",
              "    <tr>\n",
              "      <th>1</th>\n",
              "      <td>1.77</td>\n",
              "      <td>0:05:47</td>\n",
              "    </tr>\n",
              "    <tr>\n",
              "      <th>1</th>\n",
              "      <td>2.48</td>\n",
              "      <td>0:08:45</td>\n",
              "    </tr>\n",
              "    <tr>\n",
              "      <th>1</th>\n",
              "      <td>3.10</td>\n",
              "      <td>0:11:42</td>\n",
              "    </tr>\n",
              "    <tr>\n",
              "      <th>1</th>\n",
              "      <td>3.69</td>\n",
              "      <td>0:14:39</td>\n",
              "    </tr>\n",
              "    <tr>\n",
              "      <th>2</th>\n",
              "      <td>0.88</td>\n",
              "      <td>0:02:48</td>\n",
              "    </tr>\n",
              "    <tr>\n",
              "      <th>2</th>\n",
              "      <td>1.45</td>\n",
              "      <td>0:05:44</td>\n",
              "    </tr>\n",
              "    <tr>\n",
              "      <th>2</th>\n",
              "      <td>2.02</td>\n",
              "      <td>0:08:42</td>\n",
              "    </tr>\n",
              "    <tr>\n",
              "      <th>2</th>\n",
              "      <td>2.61</td>\n",
              "      <td>0:11:38</td>\n",
              "    </tr>\n",
              "    <tr>\n",
              "      <th>2</th>\n",
              "      <td>3.20</td>\n",
              "      <td>0:14:35</td>\n",
              "    </tr>\n",
              "    <tr>\n",
              "      <th>3</th>\n",
              "      <td>0.87</td>\n",
              "      <td>0:02:48</td>\n",
              "    </tr>\n",
              "    <tr>\n",
              "      <th>3</th>\n",
              "      <td>1.44</td>\n",
              "      <td>0:05:44</td>\n",
              "    </tr>\n",
              "    <tr>\n",
              "      <th>3</th>\n",
              "      <td>2.02</td>\n",
              "      <td>0:08:42</td>\n",
              "    </tr>\n",
              "    <tr>\n",
              "      <th>3</th>\n",
              "      <td>2.60</td>\n",
              "      <td>0:11:38</td>\n",
              "    </tr>\n",
              "    <tr>\n",
              "      <th>3</th>\n",
              "      <td>3.19</td>\n",
              "      <td>0:14:35</td>\n",
              "    </tr>\n",
              "  </tbody>\n",
              "</table>\n",
              "</div>\n",
              "      <button class=\"colab-df-convert\" onclick=\"convertToInteractive('df-43f610ff-15be-41a3-b2eb-98eef537987f')\"\n",
              "              title=\"Convert this dataframe to an interactive table.\"\n",
              "              style=\"display:none;\">\n",
              "        \n",
              "  <svg xmlns=\"http://www.w3.org/2000/svg\" height=\"24px\"viewBox=\"0 0 24 24\"\n",
              "       width=\"24px\">\n",
              "    <path d=\"M0 0h24v24H0V0z\" fill=\"none\"/>\n",
              "    <path d=\"M18.56 5.44l.94 2.06.94-2.06 2.06-.94-2.06-.94-.94-2.06-.94 2.06-2.06.94zm-11 1L8.5 8.5l.94-2.06 2.06-.94-2.06-.94L8.5 2.5l-.94 2.06-2.06.94zm10 10l.94 2.06.94-2.06 2.06-.94-2.06-.94-.94-2.06-.94 2.06-2.06.94z\"/><path d=\"M17.41 7.96l-1.37-1.37c-.4-.4-.92-.59-1.43-.59-.52 0-1.04.2-1.43.59L10.3 9.45l-7.72 7.72c-.78.78-.78 2.05 0 2.83L4 21.41c.39.39.9.59 1.41.59.51 0 1.02-.2 1.41-.59l7.78-7.78 2.81-2.81c.8-.78.8-2.07 0-2.86zM5.41 20L4 18.59l7.72-7.72 1.47 1.35L5.41 20z\"/>\n",
              "  </svg>\n",
              "      </button>\n",
              "      \n",
              "  <style>\n",
              "    .colab-df-container {\n",
              "      display:flex;\n",
              "      flex-wrap:wrap;\n",
              "      gap: 12px;\n",
              "    }\n",
              "\n",
              "    .colab-df-convert {\n",
              "      background-color: #E8F0FE;\n",
              "      border: none;\n",
              "      border-radius: 50%;\n",
              "      cursor: pointer;\n",
              "      display: none;\n",
              "      fill: #1967D2;\n",
              "      height: 32px;\n",
              "      padding: 0 0 0 0;\n",
              "      width: 32px;\n",
              "    }\n",
              "\n",
              "    .colab-df-convert:hover {\n",
              "      background-color: #E2EBFA;\n",
              "      box-shadow: 0px 1px 2px rgba(60, 64, 67, 0.3), 0px 1px 3px 1px rgba(60, 64, 67, 0.15);\n",
              "      fill: #174EA6;\n",
              "    }\n",
              "\n",
              "    [theme=dark] .colab-df-convert {\n",
              "      background-color: #3B4455;\n",
              "      fill: #D2E3FC;\n",
              "    }\n",
              "\n",
              "    [theme=dark] .colab-df-convert:hover {\n",
              "      background-color: #434B5C;\n",
              "      box-shadow: 0px 1px 3px 1px rgba(0, 0, 0, 0.15);\n",
              "      filter: drop-shadow(0px 1px 2px rgba(0, 0, 0, 0.3));\n",
              "      fill: #FFFFFF;\n",
              "    }\n",
              "  </style>\n",
              "\n",
              "      <script>\n",
              "        const buttonEl =\n",
              "          document.querySelector('#df-43f610ff-15be-41a3-b2eb-98eef537987f button.colab-df-convert');\n",
              "        buttonEl.style.display =\n",
              "          google.colab.kernel.accessAllowed ? 'block' : 'none';\n",
              "\n",
              "        async function convertToInteractive(key) {\n",
              "          const element = document.querySelector('#df-43f610ff-15be-41a3-b2eb-98eef537987f');\n",
              "          const dataTable =\n",
              "            await google.colab.kernel.invokeFunction('convertToInteractive',\n",
              "                                                     [key], {});\n",
              "          if (!dataTable) return;\n",
              "\n",
              "          const docLinkHtml = 'Like what you see? Visit the ' +\n",
              "            '<a target=\"_blank\" href=https://colab.research.google.com/notebooks/data_table.ipynb>data table notebook</a>'\n",
              "            + ' to learn more about interactive tables.';\n",
              "          element.innerHTML = '';\n",
              "          dataTable['output_type'] = 'display_data';\n",
              "          await google.colab.output.renderOutput(dataTable, element);\n",
              "          const docLink = document.createElement('div');\n",
              "          docLink.innerHTML = docLinkHtml;\n",
              "          element.appendChild(docLink);\n",
              "        }\n",
              "      </script>\n",
              "    </div>\n",
              "  </div>\n",
              "  "
            ]
          },
          "metadata": {},
          "execution_count": 24
        }
      ],
      "source": [
        "import pandas as pd\n",
        "\n",
        "# Display floats with two decimal places.\n",
        "pd.set_option('precision', 2)\n",
        "\n",
        "# Create a DataFrame from our training statistics.\n",
        "df_stats = pd.DataFrame(data=training_stats)\n",
        "\n",
        "# Use the 'epoch' as the row index.\n",
        "df_stats = df_stats.set_index('epoch')\n",
        "\n",
        "# A hack to force the column headers to wrap.\n",
        "#df = df.style.set_table_styles([dict(selector=\"th\",props=[('max-width', '70px')])])\n",
        "\n",
        "# Display the table.\n",
        "df_stats"
      ]
    },
    {
      "cell_type": "markdown",
      "metadata": {
        "id": "5seAJ6NpCiC5"
      },
      "source": [
        "# Save the model"
      ]
    },
    {
      "cell_type": "code",
      "execution_count": 25,
      "metadata": {
        "id": "QbZmAM9NClsG",
        "colab": {
          "base_uri": "https://localhost:8080/"
        },
        "outputId": "f87c124d-b5f8-42c5-e356-6d078cc9d24c"
      },
      "outputs": [
        {
          "output_type": "stream",
          "name": "stdout",
          "text": [
            "saved model \n"
          ]
        }
      ],
      "source": [
        "import pickle\n",
        "\n",
        "torch.save(model.state_dict(), './RobertaSem.pt')\n",
        "print('saved model ')"
      ]
    },
    {
      "cell_type": "code",
      "source": [
        "# Fonction pour appliquer du preprocessing sur les données à fournir au modèle Roberta\n",
        "# avant de faire des prédictions (par prédiction je veux dire : donner un document en entrée et recevoir la classe prédite {Low, Medium, High})\n",
        "# NOTE : il faut d'abord instancier le tokenizer + importer les librairies nécessaires (exécuter les cellules concernées dessus)\n",
        "def preprocess_data_Roberta(text):\n",
        "    input_ids = []\n",
        "    attention_masks = []\n",
        "    \n",
        "    encoded_dict = tokenizer.encode_plus(\n",
        "                        text,                      # Sentence to encode.\n",
        "                        add_special_tokens = True, # Add '[CLS]' and '[SEP]'\n",
        "                        max_length = 256,           # Pad & truncate all sentences.\n",
        "                        pad_to_max_length = True,\n",
        "                        return_attention_mask = True,   # Construct attn. masks.\n",
        "                        return_tensors = 'pt',     # Return pytorch tensors.\n",
        "                   )\n",
        "    \n",
        "    input_ids.append(encoded_dict['input_ids'])\n",
        "    attention_masks.append(encoded_dict['attention_mask'])\n",
        "    # Convert the lists into tensors.\n",
        "    input_ids = torch.cat(input_ids, dim=0)\n",
        "    attention_masks = torch.cat(attention_masks, dim=0)\n",
        "    \n",
        "    sample = TensorDataset(input_ids, attention_masks)\n",
        "    sample_loader = DataLoader(\n",
        "            sample,\n",
        "            sampler = RandomSampler(sample),\n",
        "            batch_size = 1\n",
        "        )\n",
        "    return sample_loader"
      ],
      "metadata": {
        "id": "BdKaP-9Gz5oo"
      },
      "execution_count": 26,
      "outputs": []
    },
    {
      "cell_type": "code",
      "source": [
        "model = torch.load(open('./RobertaSem.pt', 'rb'), map_location=torch.device('0'))\n",
        "model.eval()\n",
        "sample_loader = preprocess_data_Roberta(sample)\n",
        "for s in sample_loader: \n",
        "    sample = tuple(t for t in s)\n",
        "b_input_ids, b_input_mask = sample\n",
        "pred = model.forward(b_input_ids=b_input_ids, b_input_mask=b_input_mask)\n",
        "result = F.softmax(pred.logits, dim=1)\n",
        "result = result.cpu().data.numpy()\n",
        "argmax = list(np.argmax(result, axis=1))\n",
        "score = json.dumps(argmax[0], cls=NumpyArrayEncoder)\n",
        "print(f'score : {score}')"
      ],
      "metadata": {
        "id": "tnJezd65zzYe",
        "colab": {
          "base_uri": "https://localhost:8080/",
          "height": 235
        },
        "outputId": "b6948477-3687-4e24-c016-40df1a78c2dd"
      },
      "execution_count": 27,
      "outputs": [
        {
          "output_type": "error",
          "ename": "RuntimeError",
          "evalue": "ignored",
          "traceback": [
            "\u001b[0;31m---------------------------------------------------------------------------\u001b[0m",
            "\u001b[0;31mRuntimeError\u001b[0m                              Traceback (most recent call last)",
            "\u001b[0;32m<ipython-input-27-890a87fa9990>\u001b[0m in \u001b[0;36m<module>\u001b[0;34m\u001b[0m\n\u001b[0;32m----> 1\u001b[0;31m \u001b[0mmodel\u001b[0m \u001b[0;34m=\u001b[0m \u001b[0mtorch\u001b[0m\u001b[0;34m.\u001b[0m\u001b[0mload\u001b[0m\u001b[0;34m(\u001b[0m\u001b[0mopen\u001b[0m\u001b[0;34m(\u001b[0m\u001b[0;34m'./RobertaSem.pt'\u001b[0m\u001b[0;34m,\u001b[0m \u001b[0;34m'rb'\u001b[0m\u001b[0;34m)\u001b[0m\u001b[0;34m,\u001b[0m \u001b[0mmap_location\u001b[0m\u001b[0;34m=\u001b[0m\u001b[0mtorch\u001b[0m\u001b[0;34m.\u001b[0m\u001b[0mdevice\u001b[0m\u001b[0;34m(\u001b[0m\u001b[0;34m'0'\u001b[0m\u001b[0;34m)\u001b[0m\u001b[0;34m)\u001b[0m\u001b[0;34m\u001b[0m\u001b[0;34m\u001b[0m\u001b[0m\n\u001b[0m\u001b[1;32m      2\u001b[0m \u001b[0mmodel\u001b[0m\u001b[0;34m.\u001b[0m\u001b[0meval\u001b[0m\u001b[0;34m(\u001b[0m\u001b[0;34m)\u001b[0m\u001b[0;34m\u001b[0m\u001b[0;34m\u001b[0m\u001b[0m\n\u001b[1;32m      3\u001b[0m \u001b[0msample_loader\u001b[0m \u001b[0;34m=\u001b[0m \u001b[0mpreprocess_data_Roberta\u001b[0m\u001b[0;34m(\u001b[0m\u001b[0msample\u001b[0m\u001b[0;34m)\u001b[0m\u001b[0;34m\u001b[0m\u001b[0;34m\u001b[0m\u001b[0m\n\u001b[1;32m      4\u001b[0m \u001b[0;32mfor\u001b[0m \u001b[0ms\u001b[0m \u001b[0;32min\u001b[0m \u001b[0msample_loader\u001b[0m\u001b[0;34m:\u001b[0m\u001b[0;34m\u001b[0m\u001b[0;34m\u001b[0m\u001b[0m\n\u001b[1;32m      5\u001b[0m     \u001b[0msample\u001b[0m \u001b[0;34m=\u001b[0m \u001b[0mtuple\u001b[0m\u001b[0;34m(\u001b[0m\u001b[0mt\u001b[0m \u001b[0;32mfor\u001b[0m \u001b[0mt\u001b[0m \u001b[0;32min\u001b[0m \u001b[0ms\u001b[0m\u001b[0;34m)\u001b[0m\u001b[0;34m\u001b[0m\u001b[0;34m\u001b[0m\u001b[0m\n",
            "\u001b[0;31mRuntimeError\u001b[0m: Invalid device string: '0'"
          ]
        }
      ]
    },
    {
      "cell_type": "code",
      "execution_count": null,
      "metadata": {
        "id": "68xreA9JAmG5"
      },
      "outputs": [],
      "source": [
        "import matplotlib.pyplot as plt\n",
        "% matplotlib inline\n",
        "\n",
        "import seaborn as sns\n",
        "\n",
        "# Use plot styling from seaborn.\n",
        "sns.set(style='darkgrid')\n",
        "\n",
        "# Increase the plot size and font size.\n",
        "sns.set(font_scale=1.5)\n",
        "plt.rcParams[\"figure.figsize\"] = (12,6)\n",
        "\n",
        "# Plot the learning curve.\n",
        "plt.plot(df_stats['Training Loss'], 'b-o', label=\"Training\")\n",
        "\n",
        "# Label the plot.\n",
        "plt.title(\"Training Loss\")\n",
        "plt.xlabel(\"Epoch\")\n",
        "plt.ylabel(\"Loss\")\n",
        "plt.legend()\n",
        "plt.xticks([1, 2, 3])\n",
        "\n",
        "plt.show()"
      ]
    }
  ],
  "metadata": {
    "accelerator": "GPU",
    "colab": {
      "provenance": [],
      "include_colab_link": true
    },
    "kernelspec": {
      "display_name": "Python 3",
      "name": "python3"
    }
  },
  "nbformat": 4,
  "nbformat_minor": 0
}