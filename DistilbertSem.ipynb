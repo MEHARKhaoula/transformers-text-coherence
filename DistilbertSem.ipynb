{
  "cells": [
    {
      "cell_type": "markdown",
      "metadata": {
        "id": "view-in-github",
        "colab_type": "text"
      },
      "source": [
        "<a href=\"https://colab.research.google.com/github/MEHARKhaoula/Discourse-Coherence-DL/blob/main/DistilbertSem.ipynb\" target=\"_parent\"><img src=\"https://colab.research.google.com/assets/colab-badge.svg\" alt=\"Open In Colab\"/></a>"
      ]
    },
    {
      "cell_type": "code",
      "execution_count": null,
      "metadata": {
        "id": "Emlq5mNf2Mj8",
        "colab": {
          "base_uri": "https://localhost:8080/"
        },
        "outputId": "057af5c6-3ead-4059-f4fb-a7f66e4da003"
      },
      "outputs": [
        {
          "output_type": "stream",
          "name": "stdout",
          "text": [
            "GPU 0: Tesla T4 (UUID: GPU-f107ee4e-67b3-628a-ad36-0e9fe799b379)\n"
          ]
        }
      ],
      "source": [
        "!nvidia-smi -L"
      ]
    },
    {
      "cell_type": "markdown",
      "metadata": {
        "id": "RX_ZDhicpHkV"
      },
      "source": [
        "# 1. Setup"
      ]
    },
    {
      "cell_type": "markdown",
      "metadata": {
        "id": "nSU7yERLP_66"
      },
      "source": [
        "## 1.1. Using Colab GPU for Training\n"
      ]
    },
    {
      "cell_type": "code",
      "execution_count": null,
      "metadata": {
        "id": "DEfSbAA4QHas",
        "colab": {
          "base_uri": "https://localhost:8080/"
        },
        "outputId": "1886d82c-6962-4c8d-8b52-fef2e7a99aad"
      },
      "outputs": [
        {
          "output_type": "stream",
          "name": "stdout",
          "text": [
            "Found GPU at: /device:GPU:0\n"
          ]
        }
      ],
      "source": [
        "import tensorflow as tf\n",
        "\n",
        "# Get the GPU device name.\n",
        "device_name = tf.test.gpu_device_name()\n",
        "\n",
        "# The device name should look like the following:\n",
        "if device_name == '/device:GPU:0':\n",
        "    print('Found GPU at: {}'.format(device_name))\n",
        "else:\n",
        "    raise SystemError('GPU device not found')"
      ]
    },
    {
      "cell_type": "markdown",
      "metadata": {
        "id": "cqG7FzRVFEIv"
      },
      "source": [
        "In order for torch to use the GPU, we need to identify and specify the GPU as the device. Later, in our training loop, we will load data onto the device. "
      ]
    },
    {
      "cell_type": "code",
      "execution_count": null,
      "metadata": {
        "id": "oYsV4H8fCpZ-",
        "colab": {
          "base_uri": "https://localhost:8080/"
        },
        "outputId": "97cdd857-c43f-4c05-dcac-3983e8283aa6"
      },
      "outputs": [
        {
          "output_type": "stream",
          "name": "stdout",
          "text": [
            "There are 1 GPU(s) available.\n",
            "We will use the GPU: Tesla T4\n"
          ]
        }
      ],
      "source": [
        "import torch\n",
        "\n",
        "# If there's a GPU available...\n",
        "if torch.cuda.is_available():    \n",
        "\n",
        "    # Tell PyTorch to use the GPU.    \n",
        "    device = torch.device(\"cuda\")\n",
        "\n",
        "    print('There are %d GPU(s) available.' % torch.cuda.device_count())\n",
        "\n",
        "    print('We will use the GPU:', torch.cuda.get_device_name(0))\n",
        "\n",
        "# If not...\n",
        "else:\n",
        "    print('No GPU available, using the CPU instead.')\n",
        "    device = torch.device(\"cpu\")"
      ]
    },
    {
      "cell_type": "markdown",
      "metadata": {
        "id": "2ElsnSNUridI"
      },
      "source": [
        "## 1.2. Installing the Hugging Face Library\n"
      ]
    },
    {
      "cell_type": "code",
      "execution_count": null,
      "metadata": {
        "id": "0NmMdkZO8R6q",
        "colab": {
          "base_uri": "https://localhost:8080/"
        },
        "outputId": "7eaa4511-3c4d-4272-967d-3f9167a25888"
      },
      "outputs": [
        {
          "output_type": "stream",
          "name": "stdout",
          "text": [
            "Looking in indexes: https://pypi.org/simple, https://us-python.pkg.dev/colab-wheels/public/simple/\n",
            "Requirement already satisfied: transformers in /usr/local/lib/python3.8/dist-packages (4.25.1)\n",
            "Requirement already satisfied: requests in /usr/local/lib/python3.8/dist-packages (from transformers) (2.25.1)\n",
            "Requirement already satisfied: packaging>=20.0 in /usr/local/lib/python3.8/dist-packages (from transformers) (21.3)\n",
            "Requirement already satisfied: tokenizers!=0.11.3,<0.14,>=0.11.1 in /usr/local/lib/python3.8/dist-packages (from transformers) (0.13.2)\n",
            "Requirement already satisfied: numpy>=1.17 in /usr/local/lib/python3.8/dist-packages (from transformers) (1.21.6)\n",
            "Requirement already satisfied: huggingface-hub<1.0,>=0.10.0 in /usr/local/lib/python3.8/dist-packages (from transformers) (0.11.1)\n",
            "Requirement already satisfied: pyyaml>=5.1 in /usr/local/lib/python3.8/dist-packages (from transformers) (6.0)\n",
            "Requirement already satisfied: regex!=2019.12.17 in /usr/local/lib/python3.8/dist-packages (from transformers) (2022.6.2)\n",
            "Requirement already satisfied: tqdm>=4.27 in /usr/local/lib/python3.8/dist-packages (from transformers) (4.64.1)\n",
            "Requirement already satisfied: filelock in /usr/local/lib/python3.8/dist-packages (from transformers) (3.9.0)\n",
            "Requirement already satisfied: typing-extensions>=3.7.4.3 in /usr/local/lib/python3.8/dist-packages (from huggingface-hub<1.0,>=0.10.0->transformers) (4.4.0)\n",
            "Requirement already satisfied: pyparsing!=3.0.5,>=2.0.2 in /usr/local/lib/python3.8/dist-packages (from packaging>=20.0->transformers) (3.0.9)\n",
            "Requirement already satisfied: idna<3,>=2.5 in /usr/local/lib/python3.8/dist-packages (from requests->transformers) (2.10)\n",
            "Requirement already satisfied: urllib3<1.27,>=1.21.1 in /usr/local/lib/python3.8/dist-packages (from requests->transformers) (1.24.3)\n",
            "Requirement already satisfied: chardet<5,>=3.0.2 in /usr/local/lib/python3.8/dist-packages (from requests->transformers) (4.0.0)\n",
            "Requirement already satisfied: certifi>=2017.4.17 in /usr/local/lib/python3.8/dist-packages (from requests->transformers) (2022.12.7)\n"
          ]
        }
      ],
      "source": [
        "!pip install transformers"
      ]
    },
    {
      "cell_type": "code",
      "source": [
        "import pandas as pd\n",
        "\n",
        "from google.colab import drive\n",
        "drive.mount('/content/drive')\n"
      ],
      "metadata": {
        "id": "RwXE6Z8e3pXO",
        "colab": {
          "base_uri": "https://localhost:8080/"
        },
        "outputId": "f3cdb036-e2e1-442b-9d04-a7e453bfdc57"
      },
      "execution_count": null,
      "outputs": [
        {
          "output_type": "stream",
          "name": "stdout",
          "text": [
            "Drive already mounted at /content/drive; to attempt to forcibly remount, call drive.mount(\"/content/drive\", force_remount=True).\n"
          ]
        }
      ]
    },
    {
      "cell_type": "markdown",
      "metadata": {
        "id": "yJJvp-NZiGm-"
      },
      "source": [
        "# Importing GCDC dataset\n",
        "\n"
      ]
    },
    {
      "cell_type": "markdown",
      "metadata": {
        "id": "oQUy9Tat2EF_"
      },
      "source": [
        "## 2.2. Parse"
      ]
    },
    {
      "cell_type": "markdown",
      "metadata": {
        "id": "MYWzeGSY2xh3"
      },
      "source": [
        "We'll use pandas to parse the \"in-domain\" training set and look at a few of its properties and data points."
      ]
    },
    {
      "cell_type": "code",
      "execution_count": null,
      "metadata": {
        "id": "_UkeC7SG2krJ",
        "colab": {
          "base_uri": "https://localhost:8080/",
          "height": 399
        },
        "outputId": "0e8b5bd9-612d-4c09-9be1-cb0e083bef0c"
      },
      "outputs": [
        {
          "output_type": "stream",
          "name": "stdout",
          "text": [
            "Number of training sentences: 4,800\n",
            "\n"
          ]
        },
        {
          "output_type": "execute_result",
          "data": {
            "text/plain": [
              "                     text_id  \\\n",
              "596              C05774081_0   \n",
              "3370  OYUA5JhIJY9zgWw2UtsfkQ   \n",
              "3048  F2up7H0b19laVGHfCI6SPA   \n",
              "2908               text649FR   \n",
              "8                C05780274_2   \n",
              "577              C05782671_1   \n",
              "2867               text1371T   \n",
              "811              C05768587_1   \n",
              "3509  38o0lYD9pFy_lmEUd7KNqg   \n",
              "1538                  292387   \n",
              "\n",
              "                                                   text  labelA  \n",
              "596   When Jared and I went to Syria, it was because...       2  \n",
              "3370  The Days Inn Pittsburgh was a great place for ...       2  \n",
              "3048  Green Frog has been a positive influence on my...       2  \n",
              "2908  DO NOT BUY A HOUSE WITH THIS GUY. If you want ...       2  \n",
              "8     Cheryl:\\r\\n\\r\\nAgain, I'm so glad you asked. T...       1  \n",
              "577   Hi Huma-If you are w/S would you pass her this...       1  \n",
              "2867  Forget about using the ships internet service....       2  \n",
              "811   As you will note from Larry's message below, w...       0  \n",
              "3509  I have been frustrated more and more with Dann...       1  \n",
              "1538  Andy,\\r\\n\\r\\nMark Greenberg, myself and the at...       2  "
            ],
            "text/html": [
              "\n",
              "  <div id=\"df-8840168b-bf6d-469d-981d-a8c2d6256730\">\n",
              "    <div class=\"colab-df-container\">\n",
              "      <div>\n",
              "<style scoped>\n",
              "    .dataframe tbody tr th:only-of-type {\n",
              "        vertical-align: middle;\n",
              "    }\n",
              "\n",
              "    .dataframe tbody tr th {\n",
              "        vertical-align: top;\n",
              "    }\n",
              "\n",
              "    .dataframe thead th {\n",
              "        text-align: right;\n",
              "    }\n",
              "</style>\n",
              "<table border=\"1\" class=\"dataframe\">\n",
              "  <thead>\n",
              "    <tr style=\"text-align: right;\">\n",
              "      <th></th>\n",
              "      <th>text_id</th>\n",
              "      <th>text</th>\n",
              "      <th>labelA</th>\n",
              "    </tr>\n",
              "  </thead>\n",
              "  <tbody>\n",
              "    <tr>\n",
              "      <th>596</th>\n",
              "      <td>C05774081_0</td>\n",
              "      <td>When Jared and I went to Syria, it was because...</td>\n",
              "      <td>2</td>\n",
              "    </tr>\n",
              "    <tr>\n",
              "      <th>3370</th>\n",
              "      <td>OYUA5JhIJY9zgWw2UtsfkQ</td>\n",
              "      <td>The Days Inn Pittsburgh was a great place for ...</td>\n",
              "      <td>2</td>\n",
              "    </tr>\n",
              "    <tr>\n",
              "      <th>3048</th>\n",
              "      <td>F2up7H0b19laVGHfCI6SPA</td>\n",
              "      <td>Green Frog has been a positive influence on my...</td>\n",
              "      <td>2</td>\n",
              "    </tr>\n",
              "    <tr>\n",
              "      <th>2908</th>\n",
              "      <td>text649FR</td>\n",
              "      <td>DO NOT BUY A HOUSE WITH THIS GUY. If you want ...</td>\n",
              "      <td>2</td>\n",
              "    </tr>\n",
              "    <tr>\n",
              "      <th>8</th>\n",
              "      <td>C05780274_2</td>\n",
              "      <td>Cheryl:\\r\\n\\r\\nAgain, I'm so glad you asked. T...</td>\n",
              "      <td>1</td>\n",
              "    </tr>\n",
              "    <tr>\n",
              "      <th>577</th>\n",
              "      <td>C05782671_1</td>\n",
              "      <td>Hi Huma-If you are w/S would you pass her this...</td>\n",
              "      <td>1</td>\n",
              "    </tr>\n",
              "    <tr>\n",
              "      <th>2867</th>\n",
              "      <td>text1371T</td>\n",
              "      <td>Forget about using the ships internet service....</td>\n",
              "      <td>2</td>\n",
              "    </tr>\n",
              "    <tr>\n",
              "      <th>811</th>\n",
              "      <td>C05768587_1</td>\n",
              "      <td>As you will note from Larry's message below, w...</td>\n",
              "      <td>0</td>\n",
              "    </tr>\n",
              "    <tr>\n",
              "      <th>3509</th>\n",
              "      <td>38o0lYD9pFy_lmEUd7KNqg</td>\n",
              "      <td>I have been frustrated more and more with Dann...</td>\n",
              "      <td>1</td>\n",
              "    </tr>\n",
              "    <tr>\n",
              "      <th>1538</th>\n",
              "      <td>292387</td>\n",
              "      <td>Andy,\\r\\n\\r\\nMark Greenberg, myself and the at...</td>\n",
              "      <td>2</td>\n",
              "    </tr>\n",
              "  </tbody>\n",
              "</table>\n",
              "</div>\n",
              "      <button class=\"colab-df-convert\" onclick=\"convertToInteractive('df-8840168b-bf6d-469d-981d-a8c2d6256730')\"\n",
              "              title=\"Convert this dataframe to an interactive table.\"\n",
              "              style=\"display:none;\">\n",
              "        \n",
              "  <svg xmlns=\"http://www.w3.org/2000/svg\" height=\"24px\"viewBox=\"0 0 24 24\"\n",
              "       width=\"24px\">\n",
              "    <path d=\"M0 0h24v24H0V0z\" fill=\"none\"/>\n",
              "    <path d=\"M18.56 5.44l.94 2.06.94-2.06 2.06-.94-2.06-.94-.94-2.06-.94 2.06-2.06.94zm-11 1L8.5 8.5l.94-2.06 2.06-.94-2.06-.94L8.5 2.5l-.94 2.06-2.06.94zm10 10l.94 2.06.94-2.06 2.06-.94-2.06-.94-.94-2.06-.94 2.06-2.06.94z\"/><path d=\"M17.41 7.96l-1.37-1.37c-.4-.4-.92-.59-1.43-.59-.52 0-1.04.2-1.43.59L10.3 9.45l-7.72 7.72c-.78.78-.78 2.05 0 2.83L4 21.41c.39.39.9.59 1.41.59.51 0 1.02-.2 1.41-.59l7.78-7.78 2.81-2.81c.8-.78.8-2.07 0-2.86zM5.41 20L4 18.59l7.72-7.72 1.47 1.35L5.41 20z\"/>\n",
              "  </svg>\n",
              "      </button>\n",
              "      \n",
              "  <style>\n",
              "    .colab-df-container {\n",
              "      display:flex;\n",
              "      flex-wrap:wrap;\n",
              "      gap: 12px;\n",
              "    }\n",
              "\n",
              "    .colab-df-convert {\n",
              "      background-color: #E8F0FE;\n",
              "      border: none;\n",
              "      border-radius: 50%;\n",
              "      cursor: pointer;\n",
              "      display: none;\n",
              "      fill: #1967D2;\n",
              "      height: 32px;\n",
              "      padding: 0 0 0 0;\n",
              "      width: 32px;\n",
              "    }\n",
              "\n",
              "    .colab-df-convert:hover {\n",
              "      background-color: #E2EBFA;\n",
              "      box-shadow: 0px 1px 2px rgba(60, 64, 67, 0.3), 0px 1px 3px 1px rgba(60, 64, 67, 0.15);\n",
              "      fill: #174EA6;\n",
              "    }\n",
              "\n",
              "    [theme=dark] .colab-df-convert {\n",
              "      background-color: #3B4455;\n",
              "      fill: #D2E3FC;\n",
              "    }\n",
              "\n",
              "    [theme=dark] .colab-df-convert:hover {\n",
              "      background-color: #434B5C;\n",
              "      box-shadow: 0px 1px 3px 1px rgba(0, 0, 0, 0.15);\n",
              "      filter: drop-shadow(0px 1px 2px rgba(0, 0, 0, 0.3));\n",
              "      fill: #FFFFFF;\n",
              "    }\n",
              "  </style>\n",
              "\n",
              "      <script>\n",
              "        const buttonEl =\n",
              "          document.querySelector('#df-8840168b-bf6d-469d-981d-a8c2d6256730 button.colab-df-convert');\n",
              "        buttonEl.style.display =\n",
              "          google.colab.kernel.accessAllowed ? 'block' : 'none';\n",
              "\n",
              "        async function convertToInteractive(key) {\n",
              "          const element = document.querySelector('#df-8840168b-bf6d-469d-981d-a8c2d6256730');\n",
              "          const dataTable =\n",
              "            await google.colab.kernel.invokeFunction('convertToInteractive',\n",
              "                                                     [key], {});\n",
              "          if (!dataTable) return;\n",
              "\n",
              "          const docLinkHtml = 'Like what you see? Visit the ' +\n",
              "            '<a target=\"_blank\" href=https://colab.research.google.com/notebooks/data_table.ipynb>data table notebook</a>'\n",
              "            + ' to learn more about interactive tables.';\n",
              "          element.innerHTML = '';\n",
              "          dataTable['output_type'] = 'display_data';\n",
              "          await google.colab.output.renderOutput(dataTable, element);\n",
              "          const docLink = document.createElement('div');\n",
              "          docLink.innerHTML = docLinkHtml;\n",
              "          element.appendChild(docLink);\n",
              "        }\n",
              "      </script>\n",
              "    </div>\n",
              "  </div>\n",
              "  "
            ]
          },
          "metadata": {},
          "execution_count": 74
        }
      ],
      "source": [
        "\n",
        "\n",
        "# Load the dataset into a pandas dataframe.\n",
        "df = pd.read_csv(\"/content/drive/My Drive/GCDC_cv.csv\", encoding='utf-8', skiprows=1, delimiter=',', header=None, names=['text_id', 'text','labelA'])\n",
        "df['labelA'] = df['labelA'].astype(int)\n",
        "df['labelA'] = df['labelA'] - 1\n",
        "\n",
        "# Report the number of sentences.\n",
        "print('Number of training sentences: {:,}\\n'.format(df.shape[0]))\n",
        "\n",
        "# Display 10 random rows from the data.\n",
        "df.sample(10)"
      ]
    },
    {
      "cell_type": "markdown",
      "metadata": {
        "id": "kfWzpPi92UAH"
      },
      "source": [
        "The two properties we actually care about are the the `text` and its `labelA`, which is referred to as the \"coherence class\""
      ]
    },
    {
      "cell_type": "markdown",
      "metadata": {
        "id": "4SMZ5T5Imhlx"
      },
      "source": [
        "\n",
        "\n",
        "Let's extract the sentences and labels of our training set as numpy ndarrays."
      ]
    },
    {
      "cell_type": "code",
      "execution_count": null,
      "metadata": {
        "id": "GuE5BqICAne2"
      },
      "outputs": [],
      "source": [
        "# Get the lists of sentences and their labels.\n",
        "documents = df.text.values\n",
        "labels = df.labelA.values"
      ]
    },
    {
      "cell_type": "code",
      "source": [
        "!pip install SentencePiece transformers"
      ],
      "metadata": {
        "id": "CG_Chx_cWLKO",
        "colab": {
          "base_uri": "https://localhost:8080/"
        },
        "outputId": "1f9e4f71-e8f5-49a7-c28a-36c5198399c2"
      },
      "execution_count": null,
      "outputs": [
        {
          "output_type": "stream",
          "name": "stdout",
          "text": [
            "Looking in indexes: https://pypi.org/simple, https://us-python.pkg.dev/colab-wheels/public/simple/\n",
            "Requirement already satisfied: SentencePiece in /usr/local/lib/python3.8/dist-packages (0.1.97)\n",
            "Requirement already satisfied: transformers in /usr/local/lib/python3.8/dist-packages (4.25.1)\n",
            "Requirement already satisfied: huggingface-hub<1.0,>=0.10.0 in /usr/local/lib/python3.8/dist-packages (from transformers) (0.11.1)\n",
            "Requirement already satisfied: requests in /usr/local/lib/python3.8/dist-packages (from transformers) (2.25.1)\n",
            "Requirement already satisfied: packaging>=20.0 in /usr/local/lib/python3.8/dist-packages (from transformers) (21.3)\n",
            "Requirement already satisfied: tqdm>=4.27 in /usr/local/lib/python3.8/dist-packages (from transformers) (4.64.1)\n",
            "Requirement already satisfied: filelock in /usr/local/lib/python3.8/dist-packages (from transformers) (3.9.0)\n",
            "Requirement already satisfied: numpy>=1.17 in /usr/local/lib/python3.8/dist-packages (from transformers) (1.21.6)\n",
            "Requirement already satisfied: regex!=2019.12.17 in /usr/local/lib/python3.8/dist-packages (from transformers) (2022.6.2)\n",
            "Requirement already satisfied: tokenizers!=0.11.3,<0.14,>=0.11.1 in /usr/local/lib/python3.8/dist-packages (from transformers) (0.13.2)\n",
            "Requirement already satisfied: pyyaml>=5.1 in /usr/local/lib/python3.8/dist-packages (from transformers) (6.0)\n",
            "Requirement already satisfied: typing-extensions>=3.7.4.3 in /usr/local/lib/python3.8/dist-packages (from huggingface-hub<1.0,>=0.10.0->transformers) (4.4.0)\n",
            "Requirement already satisfied: pyparsing!=3.0.5,>=2.0.2 in /usr/local/lib/python3.8/dist-packages (from packaging>=20.0->transformers) (3.0.9)\n",
            "Requirement already satisfied: idna<3,>=2.5 in /usr/local/lib/python3.8/dist-packages (from requests->transformers) (2.10)\n",
            "Requirement already satisfied: chardet<5,>=3.0.2 in /usr/local/lib/python3.8/dist-packages (from requests->transformers) (4.0.0)\n",
            "Requirement already satisfied: urllib3<1.27,>=1.21.1 in /usr/local/lib/python3.8/dist-packages (from requests->transformers) (1.24.3)\n",
            "Requirement already satisfied: certifi>=2017.4.17 in /usr/local/lib/python3.8/dist-packages (from requests->transformers) (2022.12.7)\n"
          ]
        }
      ]
    },
    {
      "cell_type": "markdown",
      "metadata": {
        "id": "ex5O1eV-Pfct"
      },
      "source": [
        "# 3. Tokenization & Input Formatting\n",
        "\n",
        "In this section, we'll transform our dataset into the format that BERT can be trained on."
      ]
    },
    {
      "cell_type": "markdown",
      "metadata": {
        "id": "-8kEDRvShcU5"
      },
      "source": [
        "## 3.1. BERT Tokenizer"
      ]
    },
    {
      "cell_type": "code",
      "execution_count": null,
      "metadata": {
        "id": "Z474sSC6oe7A",
        "colab": {
          "base_uri": "https://localhost:8080/"
        },
        "outputId": "cffe9b0d-f1d6-4ec5-97e0-7acf54cf620f"
      },
      "outputs": [
        {
          "output_type": "stream",
          "name": "stdout",
          "text": [
            "Loading BERT tokenizer...\n"
          ]
        }
      ],
      "source": [
        "from transformers import DistilBertTokenizer\n",
        "\n",
        "\n",
        "# Load the BERT tokenizer.\n",
        "print('Loading BERT tokenizer...')\n",
        "tokenizer = DistilBertTokenizer.from_pretrained('distilbert-base-uncased', do_lower_case=True)"
      ]
    },
    {
      "cell_type": "markdown",
      "metadata": {
        "id": "dFzmtleW6KmJ"
      },
      "source": [
        "Let's apply the tokenizer to one sentence just to see the output.\n"
      ]
    },
    {
      "cell_type": "code",
      "execution_count": null,
      "metadata": {
        "id": "dLIbudgfh6F0",
        "colab": {
          "base_uri": "https://localhost:8080/"
        },
        "outputId": "6bdc16ec-6b5b-4ed2-db67-4d0023c7e01d"
      },
      "outputs": [
        {
          "output_type": "stream",
          "name": "stdout",
          "text": [
            " Original:  Cheryl:\r\n",
            "\r\n",
            "Are we in a good place to begin paperwork to bring Jen Davis up here on TDY in October?\r\n",
            "\r\n",
            "If so, I would recommend we ask her to report on October 29 and I will get the EX office to start the paperwork. She will be detailed to us for 90 days, which will enable her to receive funding for housing, meals + incidentals, etc., and this 90 day period will carry her through the end of the term on January 20, 2013. This schedule would give me 10 days or so of consultation before a desired departure for Vienna on November 14.\r\n",
            "\r\n",
            "I am not intent on rushing out to Vienna; the closer we get the more there is to be done, and we may not get ourselves \"packed out\" before we depart (not a wholly unwelcomed outcome, since we can set aside that task for December or January). But, if the elements are in place, Carol and I would like to go out mid-November in order to participate in IAEA meetings on November 26-30.\r\n",
            "\r\n",
            "My swearing-in ceremony is scheduled for November 9 at 10am on the 8th floor. Whatever plan we embrace, that date is set and Carol and I are eager for the day.\n",
            "Tokenized:  ['cheryl', ':', 'are', 'we', 'in', 'a', 'good', 'place', 'to', 'begin', 'paperwork', 'to', 'bring', 'jen', 'davis', 'up', 'here', 'on', 'td', '##y', 'in', 'october', '?', 'if', 'so', ',', 'i', 'would', 'recommend', 'we', 'ask', 'her', 'to', 'report', 'on', 'october', '29', 'and', 'i', 'will', 'get', 'the', 'ex', 'office', 'to', 'start', 'the', 'paperwork', '.', 'she', 'will', 'be', 'detailed', 'to', 'us', 'for', '90', 'days', ',', 'which', 'will', 'enable', 'her', 'to', 'receive', 'funding', 'for', 'housing', ',', 'meals', '+', 'incident', '##als', ',', 'etc', '.', ',', 'and', 'this', '90', 'day', 'period', 'will', 'carry', 'her', 'through', 'the', 'end', 'of', 'the', 'term', 'on', 'january', '20', ',', '2013', '.', 'this', 'schedule', 'would', 'give', 'me', '10', 'days', 'or', 'so', 'of', 'consultation', 'before', 'a', 'desired', 'departure', 'for', 'vienna', 'on', 'november', '14', '.', 'i', 'am', 'not', 'intent', 'on', 'rushing', 'out', 'to', 'vienna', ';', 'the', 'closer', 'we', 'get', 'the', 'more', 'there', 'is', 'to', 'be', 'done', ',', 'and', 'we', 'may', 'not', 'get', 'ourselves', '\"', 'packed', 'out', '\"', 'before', 'we', 'depart', '(', 'not', 'a', 'wholly', 'un', '##we', '##lco', '##med', 'outcome', ',', 'since', 'we', 'can', 'set', 'aside', 'that', 'task', 'for', 'december', 'or', 'january', ')', '.', 'but', ',', 'if', 'the', 'elements', 'are', 'in', 'place', ',', 'carol', 'and', 'i', 'would', 'like', 'to', 'go', 'out', 'mid', '-', 'november', 'in', 'order', 'to', 'participate', 'in', 'ia', '##ea', 'meetings', 'on', 'november', '26', '-', '30', '.', 'my', 'swearing', '-', 'in', 'ceremony', 'is', 'scheduled', 'for', 'november', '9', 'at', '10', '##am', 'on', 'the', '8th', 'floor', '.', 'whatever', 'plan', 'we', 'embrace', ',', 'that', 'date', 'is', 'set', 'and', 'carol', 'and', 'i', 'are', 'eager', 'for', 'the', 'day', '.']\n",
            "Token IDs:  [19431, 1024, 2024, 2057, 1999, 1037, 2204, 2173, 2000, 4088, 17397, 2000, 3288, 15419, 4482, 2039, 2182, 2006, 14595, 2100, 1999, 2255, 1029, 2065, 2061, 1010, 1045, 2052, 16755, 2057, 3198, 2014, 2000, 3189, 2006, 2255, 2756, 1998, 1045, 2097, 2131, 1996, 4654, 2436, 2000, 2707, 1996, 17397, 1012, 2016, 2097, 2022, 6851, 2000, 2149, 2005, 3938, 2420, 1010, 2029, 2097, 9585, 2014, 2000, 4374, 4804, 2005, 3847, 1010, 12278, 1009, 5043, 9777, 1010, 4385, 1012, 1010, 1998, 2023, 3938, 2154, 2558, 2097, 4287, 2014, 2083, 1996, 2203, 1997, 1996, 2744, 2006, 2254, 2322, 1010, 2286, 1012, 2023, 6134, 2052, 2507, 2033, 2184, 2420, 2030, 2061, 1997, 16053, 2077, 1037, 9059, 6712, 2005, 6004, 2006, 2281, 2403, 1012, 1045, 2572, 2025, 7848, 2006, 8375, 2041, 2000, 6004, 1025, 1996, 3553, 2057, 2131, 1996, 2062, 2045, 2003, 2000, 2022, 2589, 1010, 1998, 2057, 2089, 2025, 2131, 9731, 1000, 8966, 2041, 1000, 2077, 2057, 18280, 1006, 2025, 1037, 12590, 4895, 8545, 22499, 7583, 9560, 1010, 2144, 2057, 2064, 2275, 4998, 2008, 4708, 2005, 2285, 2030, 2254, 1007, 1012, 2021, 1010, 2065, 1996, 3787, 2024, 1999, 2173, 1010, 8594, 1998, 1045, 2052, 2066, 2000, 2175, 2041, 3054, 1011, 2281, 1999, 2344, 2000, 5589, 1999, 24264, 5243, 6295, 2006, 2281, 2656, 1011, 2382, 1012, 2026, 25082, 1011, 1999, 5103, 2003, 5115, 2005, 2281, 1023, 2012, 2184, 3286, 2006, 1996, 5893, 2723, 1012, 3649, 2933, 2057, 9979, 1010, 2008, 3058, 2003, 2275, 1998, 8594, 1998, 1045, 2024, 9461, 2005, 1996, 2154, 1012]\n"
          ]
        }
      ],
      "source": [
        "# Print the original sentence.\n",
        "print(' Original: ', documents[0])\n",
        "\n",
        "# Print the sentence split into tokens.\n",
        "print('Tokenized: ', tokenizer.tokenize(documents[0]))\n",
        "\n",
        "# Print the sentence mapped to token ids.\n",
        "print('Token IDs: ', tokenizer.convert_tokens_to_ids(tokenizer.tokenize(documents[0])))"
      ]
    },
    {
      "cell_type": "markdown",
      "metadata": {
        "id": "viKGCCh8izww"
      },
      "source": [
        "## 3.2. Required Formatting"
      ]
    },
    {
      "cell_type": "markdown",
      "metadata": {
        "id": "V6mceWWOjZnw"
      },
      "source": [
        "### Special Tokens\n"
      ]
    },
    {
      "cell_type": "markdown",
      "metadata": {
        "id": "l6w8elb-58GJ"
      },
      "source": [
        "## 3.3. Tokenize Dataset"
      ]
    },
    {
      "cell_type": "code",
      "execution_count": null,
      "metadata": {
        "id": "cKsH2sU0OCQA",
        "colab": {
          "base_uri": "https://localhost:8080/"
        },
        "outputId": "9ff126a3-a8f1-465a-9127-4f2a8427c6ee"
      },
      "outputs": [
        {
          "output_type": "stream",
          "name": "stdout",
          "text": [
            "Max sentence length:  475\n"
          ]
        }
      ],
      "source": [
        "max_len = 0\n",
        "\n",
        "# For every sentence...\n",
        "for doc in documents:\n",
        "\n",
        "    # Tokenize the text and add `[CLS]` and `[SEP]` tokens.\n",
        "    input_ids = tokenizer.encode(doc, add_special_tokens=True)\n",
        "\n",
        "    # Update the maximum sentence length.\n",
        "    max_len = max(max_len, len(input_ids))\n",
        "\n",
        "print('Max sentence length: ', max_len)"
      ]
    },
    {
      "cell_type": "markdown",
      "metadata": {
        "id": "tIWAoWL2RK1p"
      },
      "source": [
        "Now we're ready to perform the real tokenization.\n",
        "\n",
        "The `tokenizer.encode_plus` function combines multiple steps for us:\n",
        "\n",
        "1. Split the sentence into tokens.\n",
        "2. Add the special `[CLS]` and `[SEP]` tokens.\n",
        "3. Map the tokens to their IDs.\n",
        "4. Pad or truncate all sentences to the same length.\n",
        "5. Create the attention masks which explicitly differentiate real tokens from `[PAD]` tokens.\n",
        "\n",
        "The first four features are in `tokenizer.encode`, but I'm using `tokenizer.encode_plus` to get the fifth item (attention masks). Documentation is [here](https://huggingface.co/transformers/main_classes/tokenizer.html?highlight=encode_plus#transformers.PreTrainedTokenizer.encode_plus).\n"
      ]
    },
    {
      "cell_type": "code",
      "execution_count": null,
      "metadata": {
        "id": "2bBdb3pt8LuQ",
        "colab": {
          "base_uri": "https://localhost:8080/"
        },
        "outputId": "51b63b3a-5e21-4080-9cdb-c26cd1416a30"
      },
      "outputs": [
        {
          "output_type": "stream",
          "name": "stderr",
          "text": [
            "Truncation was not explicitly activated but `max_length` is provided a specific value, please use `truncation=True` to explicitly truncate examples to max length. Defaulting to 'longest_first' truncation strategy. If you encode pairs of sequences (GLUE-style) with the tokenizer you can select this strategy more precisely by providing a specific strategy to `truncation`.\n",
            "/usr/local/lib/python3.8/dist-packages/transformers/tokenization_utils_base.py:2336: FutureWarning: The `pad_to_max_length` argument is deprecated and will be removed in a future version, use `padding=True` or `padding='longest'` to pad to the longest sequence in the batch, or use `padding='max_length'` to pad to a max length. In this case, you can give a specific length with `max_length` (e.g. `max_length=45`) or leave max_length to None to pad to the maximal input size of the model (e.g. 512 for Bert).\n",
            "  warnings.warn(\n"
          ]
        },
        {
          "output_type": "stream",
          "name": "stdout",
          "text": [
            "Original:  Cheryl:\r\n",
            "\r\n",
            "Are we in a good place to begin paperwork to bring Jen Davis up here on TDY in October?\r\n",
            "\r\n",
            "If so, I would recommend we ask her to report on October 29 and I will get the EX office to start the paperwork. She will be detailed to us for 90 days, which will enable her to receive funding for housing, meals + incidentals, etc., and this 90 day period will carry her through the end of the term on January 20, 2013. This schedule would give me 10 days or so of consultation before a desired departure for Vienna on November 14.\r\n",
            "\r\n",
            "I am not intent on rushing out to Vienna; the closer we get the more there is to be done, and we may not get ourselves \"packed out\" before we depart (not a wholly unwelcomed outcome, since we can set aside that task for December or January). But, if the elements are in place, Carol and I would like to go out mid-November in order to participate in IAEA meetings on November 26-30.\r\n",
            "\r\n",
            "My swearing-in ceremony is scheduled for November 9 at 10am on the 8th floor. Whatever plan we embrace, that date is set and Carol and I are eager for the day.\n",
            "Token IDs: tensor([  101, 19431,  1024,  2024,  2057,  1999,  1037,  2204,  2173,  2000,\n",
            "         4088, 17397,  2000,  3288, 15419,  4482,  2039,  2182,  2006, 14595,\n",
            "         2100,  1999,  2255,  1029,  2065,  2061,  1010,  1045,  2052, 16755,\n",
            "         2057,  3198,  2014,  2000,  3189,  2006,  2255,  2756,  1998,  1045,\n",
            "         2097,  2131,  1996,  4654,  2436,  2000,  2707,  1996, 17397,  1012,\n",
            "         2016,  2097,  2022,  6851,  2000,  2149,  2005,  3938,  2420,  1010,\n",
            "         2029,  2097,  9585,  2014,  2000,  4374,  4804,  2005,  3847,  1010,\n",
            "        12278,  1009,  5043,  9777,  1010,  4385,  1012,  1010,  1998,  2023,\n",
            "         3938,  2154,  2558,  2097,  4287,  2014,  2083,  1996,  2203,  1997,\n",
            "         1996,  2744,  2006,  2254,  2322,  1010,  2286,  1012,  2023,  6134,\n",
            "         2052,  2507,  2033,  2184,  2420,  2030,  2061,  1997, 16053,  2077,\n",
            "         1037,  9059,  6712,  2005,  6004,  2006,  2281,  2403,  1012,  1045,\n",
            "         2572,  2025,  7848,  2006,  8375,  2041,  2000,  6004,  1025,  1996,\n",
            "         3553,  2057,  2131,  1996,  2062,  2045,  2003,  2000,  2022,  2589,\n",
            "         1010,  1998,  2057,  2089,  2025,  2131,  9731,  1000,  8966,  2041,\n",
            "         1000,  2077,  2057, 18280,  1006,  2025,  1037, 12590,  4895,  8545,\n",
            "        22499,  7583,  9560,  1010,  2144,  2057,  2064,  2275,  4998,  2008,\n",
            "         4708,  2005,  2285,  2030,  2254,  1007,  1012,  2021,  1010,  2065,\n",
            "         1996,  3787,  2024,  1999,  2173,  1010,  8594,  1998,  1045,  2052,\n",
            "         2066,  2000,  2175,  2041,  3054,  1011,  2281,  1999,  2344,  2000,\n",
            "         5589,  1999, 24264,  5243,  6295,  2006,  2281,  2656,  1011,  2382,\n",
            "         1012,  2026, 25082,  1011,  1999,  5103,  2003,  5115,  2005,  2281,\n",
            "         1023,  2012,  2184,  3286,  2006,  1996,  5893,  2723,  1012,  3649,\n",
            "         2933,  2057,  9979,  1010,  2008,  3058,  2003,  2275,  1998,  8594,\n",
            "         1998,  1045,  2024,  9461,  2005,  1996,  2154,  1012,   102,     0,\n",
            "            0,     0,     0,     0,     0,     0])\n"
          ]
        }
      ],
      "source": [
        "import torch\n",
        "# Tokenize all of the sentences and map the tokens to thier word IDs.\n",
        "input_ids = []\n",
        "attention_masks = []\n",
        "\n",
        "# For every sentence...\n",
        "for doc in documents:\n",
        "    # `encode_plus` will:\n",
        "    #   (1) Tokenize the sentence.\n",
        "    #   (2) Prepend the `[CLS]` token to the start.\n",
        "    #   (3) Append the `[SEP]` token to the end.\n",
        "    #   (4) Map tokens to their IDs.\n",
        "    #   (5) Pad or truncate the sentence to `max_length`\n",
        "    #   (6) Create attention masks for [PAD] tokens.\n",
        "    encoded_dict = tokenizer.encode_plus(\n",
        "                        doc,                      # Sentence to encode.\n",
        "                        add_special_tokens = True, # Add '[CLS]' and '[SEP]'\n",
        "                        max_length = 256,           # Pad & truncate all sentences.\n",
        "                        pad_to_max_length = True,\n",
        "                        return_attention_mask = True,   # Construct attn. masks.\n",
        "                        return_tensors = 'pt',     # Return pytorch tensors.\n",
        "                   )\n",
        "    \n",
        "    # Add the encoded sentence to the list.    \n",
        "    input_ids.append(encoded_dict['input_ids'])\n",
        "    \n",
        "    # And its attention mask (simply differentiates padding from non-padding).\n",
        "    attention_masks.append(encoded_dict['attention_mask'])\n",
        "\n",
        "# Convert the lists into tensors.\n",
        "input_ids = torch.cat(input_ids, dim=0)\n",
        "attention_masks = torch.cat(attention_masks, dim=0)\n",
        "labels = torch.tensor(labels)\n",
        "\n",
        "# Print sentence 0, now as a list of IDs.\n",
        "print('Original: ', documents[0])\n",
        "print('Token IDs:', input_ids[0])"
      ]
    },
    {
      "cell_type": "code",
      "execution_count": null,
      "metadata": {
        "id": "0gwBiDea39Xt",
        "colab": {
          "base_uri": "https://localhost:8080/"
        },
        "outputId": "a4e0558a-0892-44c1-e441-ec821215bbbe"
      },
      "outputs": [
        {
          "output_type": "stream",
          "name": "stdout",
          "text": [
            "Original:  Cheryl:\r\n",
            "\r\n",
            "Are we in a good place to begin paperwork to bring Jen Davis up here on TDY in October?\r\n",
            "\r\n",
            "If so, I would recommend we ask her to report on October 29 and I will get the EX office to start the paperwork. She will be detailed to us for 90 days, which will enable her to receive funding for housing, meals + incidentals, etc., and this 90 day period will carry her through the end of the term on January 20, 2013. This schedule would give me 10 days or so of consultation before a desired departure for Vienna on November 14.\r\n",
            "\r\n",
            "I am not intent on rushing out to Vienna; the closer we get the more there is to be done, and we may not get ourselves \"packed out\" before we depart (not a wholly unwelcomed outcome, since we can set aside that task for December or January). But, if the elements are in place, Carol and I would like to go out mid-November in order to participate in IAEA meetings on November 26-30.\r\n",
            "\r\n",
            "My swearing-in ceremony is scheduled for November 9 at 10am on the 8th floor. Whatever plan we embrace, that date is set and Carol and I are eager for the day.\n",
            "Token IDs: tensor([  101, 19431,  1024,  2024,  2057,  1999,  1037,  2204,  2173,  2000,\n",
            "         4088, 17397,  2000,  3288, 15419,  4482,  2039,  2182,  2006, 14595,\n",
            "         2100,  1999,  2255,  1029,  2065,  2061,  1010,  1045,  2052, 16755,\n",
            "         2057,  3198,  2014,  2000,  3189,  2006,  2255,  2756,  1998,  1045,\n",
            "         2097,  2131,  1996,  4654,  2436,  2000,  2707,  1996, 17397,  1012,\n",
            "         2016,  2097,  2022,  6851,  2000,  2149,  2005,  3938,  2420,  1010,\n",
            "         2029,  2097,  9585,  2014,  2000,  4374,  4804,  2005,  3847,  1010,\n",
            "        12278,  1009,  5043,  9777,  1010,  4385,  1012,  1010,  1998,  2023,\n",
            "         3938,  2154,  2558,  2097,  4287,  2014,  2083,  1996,  2203,  1997,\n",
            "         1996,  2744,  2006,  2254,  2322,  1010,  2286,  1012,  2023,  6134,\n",
            "         2052,  2507,  2033,  2184,  2420,  2030,  2061,  1997, 16053,  2077,\n",
            "         1037,  9059,  6712,  2005,  6004,  2006,  2281,  2403,  1012,  1045,\n",
            "         2572,  2025,  7848,  2006,  8375,  2041,  2000,  6004,  1025,  1996,\n",
            "         3553,  2057,  2131,  1996,  2062,  2045,  2003,  2000,  2022,  2589,\n",
            "         1010,  1998,  2057,  2089,  2025,  2131,  9731,  1000,  8966,  2041,\n",
            "         1000,  2077,  2057, 18280,  1006,  2025,  1037, 12590,  4895,  8545,\n",
            "        22499,  7583,  9560,  1010,  2144,  2057,  2064,  2275,  4998,  2008,\n",
            "         4708,  2005,  2285,  2030,  2254,  1007,  1012,  2021,  1010,  2065,\n",
            "         1996,  3787,  2024,  1999,  2173,  1010,  8594,  1998,  1045,  2052,\n",
            "         2066,  2000,  2175,  2041,  3054,  1011,  2281,  1999,  2344,  2000,\n",
            "         5589,  1999, 24264,  5243,  6295,  2006,  2281,  2656,  1011,  2382,\n",
            "         1012,  2026, 25082,  1011,  1999,  5103,  2003,  5115,  2005,  2281,\n",
            "         1023,  2012,  2184,  3286,  2006,  1996,  5893,  2723,  1012,  3649,\n",
            "         2933,  2057,  9979,  1010,  2008,  3058,  2003,  2275,  1998,  8594,\n",
            "         1998,  1045,  2024,  9461,  2005,  1996,  2154,  1012,   102,     0,\n",
            "            0,     0,     0,     0,     0,     0])\n"
          ]
        }
      ],
      "source": [
        "print('Original: ', documents[0])\n",
        "print('Token IDs:', input_ids[0])"
      ]
    },
    {
      "cell_type": "code",
      "execution_count": null,
      "metadata": {
        "id": "GEgLpFVlo1Z-"
      },
      "outputs": [],
      "source": [
        "from torch.utils.data import TensorDataset, random_split\n",
        "\n",
        "# Combine the training inputs into a TensorDataset.\n",
        "train_dataset = TensorDataset(input_ids, attention_masks, labels)"
      ]
    },
    {
      "cell_type": "code",
      "execution_count": null,
      "metadata": {
        "id": "XGUqOCtgqGhP"
      },
      "outputs": [],
      "source": [
        "from torch.utils.data import DataLoader, RandomSampler, SequentialSampler\n",
        "\n",
        "# The DataLoader needs to know our batch size for training, so we specify it \n",
        "# here. For fine-tuning BERT on a specific task, the authors recommend a batch \n",
        "# size of 16 or 32.\n",
        "batch_size = 32\n",
        "\n",
        "# Create the DataLoaders for our training and validation sets.\n",
        "# We'll take training samples in random order. \n",
        "train_dataloader = DataLoader(\n",
        "            train_dataset,  # The training samples.\n",
        "            sampler = RandomSampler(train_dataset), # Select batches randomly\n",
        "            batch_size = batch_size # Trains with this batch size.\n",
        "        )\n"
      ]
    },
    {
      "cell_type": "markdown",
      "metadata": {
        "id": "8bwa6Rts-02-"
      },
      "source": [
        "# 4. Train Our Classification Model"
      ]
    },
    {
      "cell_type": "markdown",
      "metadata": {
        "id": "3xYQ3iLO08SX"
      },
      "source": [
        "Now that our input data is properly formatted, it's time to fine tune the BERT model. "
      ]
    },
    {
      "cell_type": "markdown",
      "metadata": {
        "id": "D6TKgyUzPIQc"
      },
      "source": [
        "## 4.1. BertForSequenceClassification"
      ]
    },
    {
      "cell_type": "code",
      "execution_count": null,
      "metadata": {
        "id": "LY29sx854a2G"
      },
      "outputs": [],
      "source": [
        "import torch\n",
        "import torch.nn as nn\n",
        "from torch.autograd import Variable\n",
        "import torch.nn.functional as F\n",
        "import json\n",
        "from transformers import DistilBertForSequenceClassification\n",
        "\n",
        "\n",
        "class DistilBertSem(nn.Module):\n",
        "\n",
        "  def __init__(self):\n",
        "    super(DistilBertSem, self).__init__()\n",
        "    self.DistilBert_layer = DistilBertForSequenceClassification.from_pretrained(\n",
        "          \"distilbert-base-uncased\", \n",
        "          num_labels = 3,  \n",
        "          output_attentions = False,\n",
        "          output_hidden_states = False,\n",
        "      )\n",
        "\n",
        "  def forward(self, input_ids, attention_mask, labels=None):\n",
        "    return self.DistilBert_layer(input_ids=input_ids, attention_mask=attention_mask, labels=labels, return_dict=True)\n"
      ]
    },
    {
      "cell_type": "code",
      "execution_count": null,
      "metadata": {
        "id": "gFsCTp_mporB",
        "colab": {
          "base_uri": "https://localhost:8080/"
        },
        "outputId": "eeb388ba-e5d5-496d-dbde-8a79a49bdb1e"
      },
      "outputs": [
        {
          "output_type": "stream",
          "name": "stderr",
          "text": [
            "Some weights of the model checkpoint at distilbert-base-uncased were not used when initializing DistilBertForSequenceClassification: ['vocab_layer_norm.bias', 'vocab_transform.bias', 'vocab_projector.bias', 'vocab_projector.weight', 'vocab_layer_norm.weight', 'vocab_transform.weight']\n",
            "- This IS expected if you are initializing DistilBertForSequenceClassification from the checkpoint of a model trained on another task or with another architecture (e.g. initializing a BertForSequenceClassification model from a BertForPreTraining model).\n",
            "- This IS NOT expected if you are initializing DistilBertForSequenceClassification from the checkpoint of a model that you expect to be exactly identical (initializing a BertForSequenceClassification model from a BertForSequenceClassification model).\n",
            "Some weights of DistilBertForSequenceClassification were not initialized from the model checkpoint at distilbert-base-uncased and are newly initialized: ['classifier.bias', 'pre_classifier.weight', 'classifier.weight', 'pre_classifier.bias']\n",
            "You should probably TRAIN this model on a down-stream task to be able to use it for predictions and inference.\n"
          ]
        }
      ],
      "source": [
        "from transformers import BertForSequenceClassification, AdamW, BertConfig\n",
        "\n",
        "# Load BertForSequenceClassification, the pretrained BERT model with a single \n",
        "# linear classification layer on top. \n",
        "model = DistilBertSem()\n",
        "# Tell pytorch to run this model on the GPU.\n",
        "model = model.to(device)"
      ]
    },
    {
      "cell_type": "code",
      "execution_count": null,
      "metadata": {
        "id": "8PIiVlDYCtSq",
        "colab": {
          "base_uri": "https://localhost:8080/"
        },
        "outputId": "f3413b04-9931-4876-834f-8bf72f0f4b40"
      },
      "outputs": [
        {
          "output_type": "stream",
          "name": "stdout",
          "text": [
            "The BERT model has 104 different named parameters.\n",
            "\n",
            "==== Embedding Layer ====\n",
            "\n",
            "DistilBert_layer.distilbert.embeddings.word_embeddings.weight (30522, 768)\n",
            "DistilBert_layer.distilbert.embeddings.position_embeddings.weight   (512, 768)\n",
            "DistilBert_layer.distilbert.embeddings.LayerNorm.weight       (768,)\n",
            "DistilBert_layer.distilbert.embeddings.LayerNorm.bias         (768,)\n",
            "DistilBert_layer.distilbert.transformer.layer.0.attention.q_lin.weight   (768, 768)\n",
            "\n",
            "==== First Transformer ====\n",
            "\n",
            "DistilBert_layer.distilbert.transformer.layer.0.attention.q_lin.bias       (768,)\n",
            "DistilBert_layer.distilbert.transformer.layer.0.attention.k_lin.weight   (768, 768)\n",
            "DistilBert_layer.distilbert.transformer.layer.0.attention.k_lin.bias       (768,)\n",
            "DistilBert_layer.distilbert.transformer.layer.0.attention.v_lin.weight   (768, 768)\n",
            "DistilBert_layer.distilbert.transformer.layer.0.attention.v_lin.bias       (768,)\n",
            "DistilBert_layer.distilbert.transformer.layer.0.attention.out_lin.weight   (768, 768)\n",
            "DistilBert_layer.distilbert.transformer.layer.0.attention.out_lin.bias       (768,)\n",
            "DistilBert_layer.distilbert.transformer.layer.0.sa_layer_norm.weight       (768,)\n",
            "DistilBert_layer.distilbert.transformer.layer.0.sa_layer_norm.bias       (768,)\n",
            "DistilBert_layer.distilbert.transformer.layer.0.ffn.lin1.weight  (3072, 768)\n",
            "DistilBert_layer.distilbert.transformer.layer.0.ffn.lin1.bias      (3072,)\n",
            "DistilBert_layer.distilbert.transformer.layer.0.ffn.lin2.weight  (768, 3072)\n",
            "DistilBert_layer.distilbert.transformer.layer.0.ffn.lin2.bias       (768,)\n",
            "DistilBert_layer.distilbert.transformer.layer.0.output_layer_norm.weight       (768,)\n",
            "DistilBert_layer.distilbert.transformer.layer.0.output_layer_norm.bias       (768,)\n",
            "DistilBert_layer.distilbert.transformer.layer.1.attention.q_lin.weight   (768, 768)\n",
            "\n",
            "==== Output Layer ====\n",
            "\n",
            "DistilBert_layer.pre_classifier.weight                    (768, 768)\n",
            "DistilBert_layer.pre_classifier.bias                          (768,)\n",
            "DistilBert_layer.classifier.weight                          (3, 768)\n",
            "DistilBert_layer.classifier.bias                                (3,)\n"
          ]
        }
      ],
      "source": [
        "# Get all of the model's parameters as a list of tuples.\n",
        "params = list(model.named_parameters())\n",
        "\n",
        "print('The BERT model has {:} different named parameters.\\n'.format(len(params)))\n",
        "\n",
        "print('==== Embedding Layer ====\\n')\n",
        "\n",
        "for p in params[0:5]:\n",
        "    print(\"{:<55} {:>12}\".format(p[0], str(tuple(p[1].size()))))\n",
        "\n",
        "print('\\n==== First Transformer ====\\n')\n",
        "\n",
        "for p in params[5:21]:\n",
        "    print(\"{:<55} {:>12}\".format(p[0], str(tuple(p[1].size()))))\n",
        "\n",
        "print('\\n==== Output Layer ====\\n')\n",
        "\n",
        "for p in params[-4:]:\n",
        "    print(\"{:<55} {:>12}\".format(p[0], str(tuple(p[1].size()))))"
      ]
    },
    {
      "cell_type": "markdown",
      "metadata": {
        "id": "qRWT-D4U_Pvx"
      },
      "source": [
        "## 4.2. Optimizer & Learning Rate Scheduler"
      ]
    },
    {
      "cell_type": "code",
      "execution_count": null,
      "metadata": {
        "id": "GLs72DuMODJO",
        "colab": {
          "base_uri": "https://localhost:8080/"
        },
        "outputId": "2cebd5cb-3151-4ff6-884a-e98c1f85ea6d"
      },
      "outputs": [
        {
          "output_type": "stream",
          "name": "stderr",
          "text": [
            "/usr/local/lib/python3.8/dist-packages/transformers/optimization.py:306: FutureWarning: This implementation of AdamW is deprecated and will be removed in a future version. Use the PyTorch implementation torch.optim.AdamW instead, or set `no_deprecation_warning=True` to disable this warning\n",
            "  warnings.warn(\n"
          ]
        }
      ],
      "source": [
        "# Note: AdamW is a class from the huggingface library (as opposed to pytorch) \n",
        "# I believe the 'W' stands for 'Weight Decay fix\"\n",
        "optimizer = AdamW(model.parameters(),\n",
        "                  lr = 2e-5, # args.learning_rate - default is 5e-5, our notebook had 2e-5\n",
        "                  eps = 1e-8 # args.adam_epsilon  - default is 1e-8.\n",
        "                )\n"
      ]
    },
    {
      "cell_type": "code",
      "execution_count": null,
      "metadata": {
        "id": "-p0upAhhRiIx"
      },
      "outputs": [],
      "source": [
        "from transformers import get_linear_schedule_with_warmup\n",
        "\n",
        "# Number of training epochs. The BERT authors recommend between 2 and 4. \n",
        "# We chose to run for 4, but we'll see later that this may be over-fitting the\n",
        "# training data.\n",
        "epochs = 3\n",
        "\n",
        "# Total number of training steps is [number of batches] x [number of epochs]. \n",
        "# (Note that this is not the same as the number of training samples).\n",
        "total_steps = len(train_dataloader) * epochs\n",
        "\n",
        "# Create the learning rate scheduler.\n",
        "scheduler = get_linear_schedule_with_warmup(optimizer, \n",
        "                                            num_warmup_steps = 0, # Default value in run_glue.py\n",
        "                                            num_training_steps = total_steps)"
      ]
    },
    {
      "cell_type": "markdown",
      "metadata": {
        "id": "KNhRtWPXH9C3"
      },
      "source": [
        "Helper function for formatting elapsed times as `hh:mm:ss`\n"
      ]
    },
    {
      "cell_type": "code",
      "execution_count": null,
      "metadata": {
        "id": "gpt6tR83keZD"
      },
      "outputs": [],
      "source": [
        "import time\n",
        "import datetime\n",
        "\n",
        "def format_time(elapsed):\n",
        "    '''\n",
        "    Takes a time in seconds and returns a string hh:mm:ss\n",
        "    '''\n",
        "    # Round to the nearest second.\n",
        "    elapsed_rounded = int(round((elapsed)))\n",
        "    \n",
        "    # Format as hh:mm:ss\n",
        "    return str(datetime.timedelta(seconds=elapsed_rounded))\n"
      ]
    },
    {
      "cell_type": "markdown",
      "metadata": {
        "id": "cfNIhN19te3N"
      },
      "source": [
        "We're ready to kick off the training!"
      ]
    },
    {
      "cell_type": "code",
      "execution_count": null,
      "metadata": {
        "id": "LjHZVFgzAN3G"
      },
      "outputs": [],
      "source": [
        "from sklearn.model_selection import StratifiedKFold\n",
        "\n",
        "kfold = StratifiedKFold(n_splits = 5, shuffle = False)"
      ]
    },
    {
      "cell_type": "code",
      "execution_count": null,
      "metadata": {
        "id": "8Fe_3rZ5FZKt"
      },
      "outputs": [],
      "source": [
        "from sklearn.metrics import accuracy_score\n",
        "from sklearn import metrics\n",
        "\n",
        "def eval_docs(prediction_dataloader):\n",
        "  # Prediction on test set\n",
        "  # Put model in evaluation mode\n",
        "  model.eval()\n",
        "\n",
        "  # Tracking variables \n",
        "  predictions , true_labels = [], []\n",
        "\n",
        "  # Predict \n",
        "  for batch in prediction_dataloader:\n",
        "      # Add batch to GPU\n",
        "      batch = tuple(t.to(device) for t in batch)\n",
        "    \n",
        "      # Unpack the inputs from our dataloader\n",
        "      b_input_ids, b_input_mask, b_labels = batch\n",
        "      \n",
        "      # Telling the model not to compute or store gradients, saving memory and \n",
        "      # speeding up prediction\n",
        "      with torch.no_grad():\n",
        "          # Forward pass, calculate logit predictions.\n",
        "          result = model(b_input_ids,  \n",
        "                        attention_mask=b_input_mask,\n",
        "                        )\n",
        "      results = F.softmax(result.logits, dim=0)\n",
        "\n",
        "      logits = results\n",
        "\n",
        "      # Move logits and labels to CPU\n",
        "      logits = logits.detach().cpu().numpy()\n",
        "      label_ids = b_labels.to('cpu').numpy()\n",
        "      # Store predictions and true labels\n",
        "      predictions.extend(list(np.argmax(logits, axis=1)))\n",
        "      true_labels.extend(label_ids)\n",
        "\n",
        "  matrix = metrics.confusion_matrix(true_labels, predictions, labels=[0, 1, 2])\n",
        "  print(matrix)\n",
        "  sum = np.sum(matrix)\n",
        "  acc_low = (matrix[0][0] + matrix[1][1] + matrix[1][2] + matrix[2][1] + matrix [2][2])/(sum) #exactitude relative à la classe low\n",
        "  acc_medium = (matrix[0][0] + matrix[1][1] + matrix[0][2] + matrix[2][0] + matrix [2][2])/(sum) #exactitude relative à la classe medium\n",
        "  acc_high = (matrix[0][0] + matrix[1][1] + matrix[0][1] + matrix[1][0] + matrix [2][2])/(sum) #exactitude relative à la classe high\n",
        "\n",
        "  accuracy = accuracy_score(predictions, true_labels)\n",
        "  print(\"Accuracy :\")\n",
        "  print(accuracy)\n",
        "  print(\"Accuracy low :\")\n",
        "  print(acc_low)  \n",
        "  print(\"Accuracy medium :\")\n",
        "  print(acc_medium) \n",
        "  print(\"Accuracy high :\")\n",
        "  print(acc_high) \n",
        "  print(\"Average accuracy :\")\n",
        "  print((acc_low + acc_medium + acc_high)/3) \n",
        "  print(\"Classification report :\")\n",
        "  print(metrics.classification_report(true_labels, predictions, labels=[0, 1, 2], zero_division=1))\n",
        "\n",
        "  print('    DONE.')\n",
        "  return accuracy"
      ]
    },
    {
      "cell_type": "code",
      "execution_count": null,
      "metadata": {
        "id": "6J-FYdx6nFE_"
      },
      "outputs": [],
      "source": [
        "import random\n",
        "import numpy as np\n",
        "import torch.nn.functional as F\n",
        "import torch.utils.data as d\n",
        "import sys\n",
        "\n",
        "# Set the seed value all over the place to make this reproducible.\n",
        "seed_val = 42 \n",
        "best_test_acc = 0\n",
        "\n",
        "random.seed(seed_val)\n",
        "np.random.seed(seed_val)\n",
        "torch.manual_seed(seed_val)\n",
        "torch.cuda.manual_seed_all(seed_val)\n",
        "\n",
        "# We'll store a number of quantities such as training and validation loss, \n",
        "# validation accuracy, and timings.\n",
        "training_stats = []\n",
        "\n",
        "# Measure the total training time for the whole run.\n",
        "total_t0 = time.time()\n",
        "\n",
        "# For each epoch...\n",
        "for epoch_i in range(0, epochs):\n",
        "    \n",
        "    # ========================================\n",
        "    #               Training\n",
        "    # ========================================\n",
        "    \n",
        "    # Perform one full pass over the training set.\n",
        "\n",
        "    print(\"\")\n",
        "    print('======== Epoch {:} / {:} ========'.format(epoch_i + 1, epochs))\n",
        "    print('Training...')\n",
        "\n",
        "    # Measure how long the training epoch takes.\n",
        "    t0 = time.time()\n",
        "\n",
        "    # Reset the total loss for this epoch.\n",
        "    total_train_loss = 0\n",
        "\n",
        "    CUDA_LAUNCH_BLOCKING=1\n",
        "    # Put the model into training mode\n",
        "    model.train()\n",
        "\n",
        "    for fold, (train, test) in enumerate(kfold.split(train_dataset, labels)):\n",
        "      train_subsampler = d.SubsetRandomSampler(train)\n",
        "      test_subsampler = d.SubsetRandomSampler(test)\n",
        "\n",
        "      trainloader = DataLoader(\n",
        "                train_dataset, \n",
        "                batch_size=batch_size, sampler=train_subsampler)\n",
        "      testloader = torch.utils.data.DataLoader(\n",
        "                train_dataset,\n",
        "                batch_size=batch_size, sampler=test_subsampler)\n",
        "  # For each batch of training data...\n",
        "      for step, batch in enumerate(trainloader):\n",
        "\n",
        "          # Progress update every 40 batches.\n",
        "          if step % 40 == 0 and not step == 0:\n",
        "              # Calculate elapsed time in minutes.\n",
        "              elapsed = format_time(time.time() - t0)\n",
        "              \n",
        "              # Report progress.\n",
        "              print('  Batch {:>5,}  of  {:>5,}.    Elapsed: {:}.'.format(step, len(trainloader), elapsed))\n",
        "\n",
        "          # Unpack this training batch from our dataloader. \n",
        "          b_input_ids = batch[0].to(device)\n",
        "          b_input_mask = batch[1].to(device)\n",
        "          b_labels = batch[2].to(device)\n",
        "\n",
        "          # Always clear any previously calculated gradients before performing a\n",
        "          # backward pass.\n",
        "          model.zero_grad()        \n",
        "\n",
        "          # Perform a forward pass (evaluate the model on this training batch).\n",
        "          result = model(b_input_ids, \n",
        "                      attention_mask=b_input_mask, \n",
        "                      labels=b_labels,\n",
        "                      )\n",
        "          results = F.softmax(result.logits, dim=0)\n",
        "          loss = result.loss\n",
        "          logits = results\n",
        "\n",
        "          # Accumulate the training loss over all of the batches so that we can\n",
        "          # calculate the average loss at the end.\n",
        "          total_train_loss += loss.item()\n",
        "\n",
        "          # Perform a backward pass to calculate the gradients.\n",
        "          loss.backward()\n",
        "\n",
        "          torch.nn.utils.clip_grad_norm_(model.parameters(), 1.0)\n",
        "\n",
        "          # Update parameters and take a step using the computed gradient.\n",
        "          optimizer.step()\n",
        "\n",
        "          # Update the learning rate.\n",
        "          scheduler.step()\n",
        "\n",
        "      # Calculate the average loss over all of the batches.\n",
        "      avg_train_loss = total_train_loss / len(trainloader)            \n",
        "      \n",
        "      # Measure how long this epoch took.\n",
        "      training_time = format_time(time.time() - t0)\n",
        "\n",
        "      print(\"\")\n",
        "      print(\"  Average training loss: {0:.2f}\".format(avg_train_loss))\n",
        "      print(\"  Training epcoh took: {:}\".format(training_time))\n",
        "\n",
        "          # Record all statistics from this epoch.\n",
        "      training_stats.append(\n",
        "          {\n",
        "              'epoch': epoch_i + 1,\n",
        "              'Training Loss': avg_train_loss,\n",
        "              'Training Time': training_time,\n",
        "          }\n",
        "      )\n",
        "      test_accuracy = eval_docs(testloader)\n",
        "      if test_accuracy > best_test_acc:\n",
        "        best_test_acc = test_accuracy\n",
        "\n",
        "print(\"\")\n",
        "print(\"Training complete!\")\n",
        "\n",
        "print(\"Total training took {:} (h:mm:ss)\".format(format_time(time.time()-total_t0)))\n",
        "\n",
        "print(\"==================== BEST TEST ACCURACY =================================\")\n",
        "print(best_test_acc)"
      ]
    },
    {
      "cell_type": "markdown",
      "metadata": {
        "id": "VQTvJ1vRP7u4"
      },
      "source": [
        "Let's view the summary of the training process."
      ]
    },
    {
      "cell_type": "code",
      "execution_count": null,
      "metadata": {
        "id": "6O_NbXFGMukX",
        "colab": {
          "base_uri": "https://localhost:8080/",
          "height": 551
        },
        "outputId": "61e99874-0af1-49b9-a609-4db1432fdc34"
      },
      "outputs": [
        {
          "output_type": "execute_result",
          "data": {
            "text/plain": [
              "       Training Loss Training Time\n",
              "epoch                             \n",
              "1               0.96       0:01:21\n",
              "1               1.83       0:02:47\n",
              "1               2.61       0:04:13\n",
              "1               3.34       0:05:39\n",
              "1               4.04       0:07:05\n",
              "2               0.77       0:01:20\n",
              "2               1.45       0:02:46\n",
              "2               2.14       0:04:11\n",
              "2               2.84       0:05:37\n",
              "2               3.54       0:07:03\n",
              "3               0.77       0:01:20\n",
              "3               1.46       0:02:46\n",
              "3               2.15       0:04:12\n",
              "3               2.85       0:05:38\n",
              "3               3.55       0:07:03"
            ],
            "text/html": [
              "\n",
              "  <div id=\"df-028b1e37-4502-409c-a339-e96633d4fd34\">\n",
              "    <div class=\"colab-df-container\">\n",
              "      <div>\n",
              "<style scoped>\n",
              "    .dataframe tbody tr th:only-of-type {\n",
              "        vertical-align: middle;\n",
              "    }\n",
              "\n",
              "    .dataframe tbody tr th {\n",
              "        vertical-align: top;\n",
              "    }\n",
              "\n",
              "    .dataframe thead th {\n",
              "        text-align: right;\n",
              "    }\n",
              "</style>\n",
              "<table border=\"1\" class=\"dataframe\">\n",
              "  <thead>\n",
              "    <tr style=\"text-align: right;\">\n",
              "      <th></th>\n",
              "      <th>Training Loss</th>\n",
              "      <th>Training Time</th>\n",
              "    </tr>\n",
              "    <tr>\n",
              "      <th>epoch</th>\n",
              "      <th></th>\n",
              "      <th></th>\n",
              "    </tr>\n",
              "  </thead>\n",
              "  <tbody>\n",
              "    <tr>\n",
              "      <th>1</th>\n",
              "      <td>0.96</td>\n",
              "      <td>0:01:21</td>\n",
              "    </tr>\n",
              "    <tr>\n",
              "      <th>1</th>\n",
              "      <td>1.83</td>\n",
              "      <td>0:02:47</td>\n",
              "    </tr>\n",
              "    <tr>\n",
              "      <th>1</th>\n",
              "      <td>2.61</td>\n",
              "      <td>0:04:13</td>\n",
              "    </tr>\n",
              "    <tr>\n",
              "      <th>1</th>\n",
              "      <td>3.34</td>\n",
              "      <td>0:05:39</td>\n",
              "    </tr>\n",
              "    <tr>\n",
              "      <th>1</th>\n",
              "      <td>4.04</td>\n",
              "      <td>0:07:05</td>\n",
              "    </tr>\n",
              "    <tr>\n",
              "      <th>2</th>\n",
              "      <td>0.77</td>\n",
              "      <td>0:01:20</td>\n",
              "    </tr>\n",
              "    <tr>\n",
              "      <th>2</th>\n",
              "      <td>1.45</td>\n",
              "      <td>0:02:46</td>\n",
              "    </tr>\n",
              "    <tr>\n",
              "      <th>2</th>\n",
              "      <td>2.14</td>\n",
              "      <td>0:04:11</td>\n",
              "    </tr>\n",
              "    <tr>\n",
              "      <th>2</th>\n",
              "      <td>2.84</td>\n",
              "      <td>0:05:37</td>\n",
              "    </tr>\n",
              "    <tr>\n",
              "      <th>2</th>\n",
              "      <td>3.54</td>\n",
              "      <td>0:07:03</td>\n",
              "    </tr>\n",
              "    <tr>\n",
              "      <th>3</th>\n",
              "      <td>0.77</td>\n",
              "      <td>0:01:20</td>\n",
              "    </tr>\n",
              "    <tr>\n",
              "      <th>3</th>\n",
              "      <td>1.46</td>\n",
              "      <td>0:02:46</td>\n",
              "    </tr>\n",
              "    <tr>\n",
              "      <th>3</th>\n",
              "      <td>2.15</td>\n",
              "      <td>0:04:12</td>\n",
              "    </tr>\n",
              "    <tr>\n",
              "      <th>3</th>\n",
              "      <td>2.85</td>\n",
              "      <td>0:05:38</td>\n",
              "    </tr>\n",
              "    <tr>\n",
              "      <th>3</th>\n",
              "      <td>3.55</td>\n",
              "      <td>0:07:03</td>\n",
              "    </tr>\n",
              "  </tbody>\n",
              "</table>\n",
              "</div>\n",
              "      <button class=\"colab-df-convert\" onclick=\"convertToInteractive('df-028b1e37-4502-409c-a339-e96633d4fd34')\"\n",
              "              title=\"Convert this dataframe to an interactive table.\"\n",
              "              style=\"display:none;\">\n",
              "        \n",
              "  <svg xmlns=\"http://www.w3.org/2000/svg\" height=\"24px\"viewBox=\"0 0 24 24\"\n",
              "       width=\"24px\">\n",
              "    <path d=\"M0 0h24v24H0V0z\" fill=\"none\"/>\n",
              "    <path d=\"M18.56 5.44l.94 2.06.94-2.06 2.06-.94-2.06-.94-.94-2.06-.94 2.06-2.06.94zm-11 1L8.5 8.5l.94-2.06 2.06-.94-2.06-.94L8.5 2.5l-.94 2.06-2.06.94zm10 10l.94 2.06.94-2.06 2.06-.94-2.06-.94-.94-2.06-.94 2.06-2.06.94z\"/><path d=\"M17.41 7.96l-1.37-1.37c-.4-.4-.92-.59-1.43-.59-.52 0-1.04.2-1.43.59L10.3 9.45l-7.72 7.72c-.78.78-.78 2.05 0 2.83L4 21.41c.39.39.9.59 1.41.59.51 0 1.02-.2 1.41-.59l7.78-7.78 2.81-2.81c.8-.78.8-2.07 0-2.86zM5.41 20L4 18.59l7.72-7.72 1.47 1.35L5.41 20z\"/>\n",
              "  </svg>\n",
              "      </button>\n",
              "      \n",
              "  <style>\n",
              "    .colab-df-container {\n",
              "      display:flex;\n",
              "      flex-wrap:wrap;\n",
              "      gap: 12px;\n",
              "    }\n",
              "\n",
              "    .colab-df-convert {\n",
              "      background-color: #E8F0FE;\n",
              "      border: none;\n",
              "      border-radius: 50%;\n",
              "      cursor: pointer;\n",
              "      display: none;\n",
              "      fill: #1967D2;\n",
              "      height: 32px;\n",
              "      padding: 0 0 0 0;\n",
              "      width: 32px;\n",
              "    }\n",
              "\n",
              "    .colab-df-convert:hover {\n",
              "      background-color: #E2EBFA;\n",
              "      box-shadow: 0px 1px 2px rgba(60, 64, 67, 0.3), 0px 1px 3px 1px rgba(60, 64, 67, 0.15);\n",
              "      fill: #174EA6;\n",
              "    }\n",
              "\n",
              "    [theme=dark] .colab-df-convert {\n",
              "      background-color: #3B4455;\n",
              "      fill: #D2E3FC;\n",
              "    }\n",
              "\n",
              "    [theme=dark] .colab-df-convert:hover {\n",
              "      background-color: #434B5C;\n",
              "      box-shadow: 0px 1px 3px 1px rgba(0, 0, 0, 0.15);\n",
              "      filter: drop-shadow(0px 1px 2px rgba(0, 0, 0, 0.3));\n",
              "      fill: #FFFFFF;\n",
              "    }\n",
              "  </style>\n",
              "\n",
              "      <script>\n",
              "        const buttonEl =\n",
              "          document.querySelector('#df-028b1e37-4502-409c-a339-e96633d4fd34 button.colab-df-convert');\n",
              "        buttonEl.style.display =\n",
              "          google.colab.kernel.accessAllowed ? 'block' : 'none';\n",
              "\n",
              "        async function convertToInteractive(key) {\n",
              "          const element = document.querySelector('#df-028b1e37-4502-409c-a339-e96633d4fd34');\n",
              "          const dataTable =\n",
              "            await google.colab.kernel.invokeFunction('convertToInteractive',\n",
              "                                                     [key], {});\n",
              "          if (!dataTable) return;\n",
              "\n",
              "          const docLinkHtml = 'Like what you see? Visit the ' +\n",
              "            '<a target=\"_blank\" href=https://colab.research.google.com/notebooks/data_table.ipynb>data table notebook</a>'\n",
              "            + ' to learn more about interactive tables.';\n",
              "          element.innerHTML = '';\n",
              "          dataTable['output_type'] = 'display_data';\n",
              "          await google.colab.output.renderOutput(dataTable, element);\n",
              "          const docLink = document.createElement('div');\n",
              "          docLink.innerHTML = docLinkHtml;\n",
              "          element.appendChild(docLink);\n",
              "        }\n",
              "      </script>\n",
              "    </div>\n",
              "  </div>\n",
              "  "
            ]
          },
          "metadata": {},
          "execution_count": 92
        }
      ],
      "source": [
        "import pandas as pd\n",
        "\n",
        "# Display floats with two decimal places.\n",
        "pd.set_option('precision', 2)\n",
        "\n",
        "# Create a DataFrame from our training statistics.\n",
        "df_stats = pd.DataFrame(data=training_stats)\n",
        "\n",
        "# Use the 'epoch' as the row index.\n",
        "df_stats = df_stats.set_index('epoch')\n",
        "\n",
        "# A hack to force the column headers to wrap.\n",
        "#df = df.style.set_table_styles([dict(selector=\"th\",props=[('max-width', '70px')])])\n",
        "\n",
        "# Display the table.\n",
        "df_stats"
      ]
    },
    {
      "cell_type": "markdown",
      "metadata": {
        "id": "5seAJ6NpCiC5"
      },
      "source": [
        "# Save the model"
      ]
    },
    {
      "cell_type": "code",
      "execution_count": null,
      "metadata": {
        "id": "QbZmAM9NClsG",
        "colab": {
          "base_uri": "https://localhost:8080/"
        },
        "outputId": "ad8d06e1-42b1-4c19-f942-6dd09edd20dc"
      },
      "outputs": [
        {
          "output_type": "stream",
          "name": "stdout",
          "text": [
            "saved model \n"
          ]
        }
      ],
      "source": [
        "import pickle\n",
        "\n",
        "torch.save(model.state_dict(), './BERTSem.pt')\n",
        "print('saved model ')"
      ]
    },
    {
      "cell_type": "code",
      "source": [
        "# Fonction pour appliquer du preprocessing sur les données à fournir au modèle BERT\n",
        "# avant de faire des prédictions (par prédiction je veux dire : donner un document en entrée et recevoir la classe prédite {Low, Medium, High})\n",
        "# NOTE : il faut d'abord instancier le tokenizer + importer les librairies nécessaires (exécuter les cellules concernées dessus)\n",
        "def preprocess_data_bert(text):\n",
        "    input_ids = []\n",
        "    attention_masks = []\n",
        "    \n",
        "    encoded_dict = tokenizer.encode_plus(\n",
        "                        text,                      # Sentence to encode.\n",
        "                        add_special_tokens = True, # Add '[CLS]' and '[SEP]'\n",
        "                        max_length = 256,           # Pad & truncate all sentences.\n",
        "                        pad_to_max_length = True,\n",
        "                        return_attention_mask = True,   # Construct attn. masks.\n",
        "                        return_tensors = 'pt',     # Return pytorch tensors.\n",
        "                   )\n",
        "    \n",
        "    input_ids.append(encoded_dict['input_ids'])\n",
        "    attention_masks.append(encoded_dict['attention_mask'])\n",
        "    # Convert the lists into tensors.\n",
        "    input_ids = torch.cat(input_ids, dim=0)\n",
        "    attention_masks = torch.cat(attention_masks, dim=0)\n",
        "    \n",
        "    sample = TensorDataset(input_ids, attention_masks)\n",
        "    sample_loader = DataLoader(\n",
        "            sample,\n",
        "            sampler = RandomSampler(sample),\n",
        "            batch_size = 1\n",
        "        )\n",
        "    return sample_loader"
      ],
      "metadata": {
        "id": "BdKaP-9Gz5oo"
      },
      "execution_count": null,
      "outputs": []
    },
    {
      "cell_type": "code",
      "source": [
        "model = torch.load(open('./BERTSem.pt', 'rb'), map_location=torch.device('0'))\n",
        "model.eval()\n",
        "sample_loader = preprocess_data_bert(sample)\n",
        "for s in sample_loader: \n",
        "    sample = tuple(t for t in s)\n",
        "b_input_ids, b_input_mask = sample\n",
        "pred = model.forward(b_input_ids=b_input_ids, b_input_mask=b_input_mask)\n",
        "result = F.softmax(pred.logits, dim=1)\n",
        "result = result.cpu().data.numpy()\n",
        "argmax = list(np.argmax(result, axis=1))\n",
        "score = json.dumps(argmax[0], cls=NumpyArrayEncoder)\n",
        "print(f'score : {score}')"
      ],
      "metadata": {
        "id": "tnJezd65zzYe",
        "colab": {
          "base_uri": "https://localhost:8080/",
          "height": 244
        },
        "outputId": "395f160d-299b-4535-d870-93924d824076"
      },
      "execution_count": null,
      "outputs": [
        {
          "output_type": "error",
          "ename": "RuntimeError",
          "evalue": "ignored",
          "traceback": [
            "\u001b[0;31m---------------------------------------------------------------------------\u001b[0m",
            "\u001b[0;31mRuntimeError\u001b[0m                              Traceback (most recent call last)",
            "\u001b[0;32m<ipython-input-95-d3d20cc2a057>\u001b[0m in \u001b[0;36m<module>\u001b[0;34m\u001b[0m\n\u001b[0;32m----> 1\u001b[0;31m \u001b[0mmodel\u001b[0m \u001b[0;34m=\u001b[0m \u001b[0mtorch\u001b[0m\u001b[0;34m.\u001b[0m\u001b[0mload\u001b[0m\u001b[0;34m(\u001b[0m\u001b[0mopen\u001b[0m\u001b[0;34m(\u001b[0m\u001b[0;34m'./BERTSem.pt'\u001b[0m\u001b[0;34m,\u001b[0m \u001b[0;34m'rb'\u001b[0m\u001b[0;34m)\u001b[0m\u001b[0;34m,\u001b[0m \u001b[0mmap_location\u001b[0m\u001b[0;34m=\u001b[0m\u001b[0mtorch\u001b[0m\u001b[0;34m.\u001b[0m\u001b[0mdevice\u001b[0m\u001b[0;34m(\u001b[0m\u001b[0;34m'0'\u001b[0m\u001b[0;34m)\u001b[0m\u001b[0;34m)\u001b[0m\u001b[0;34m\u001b[0m\u001b[0;34m\u001b[0m\u001b[0m\n\u001b[0m\u001b[1;32m      2\u001b[0m \u001b[0mmodel\u001b[0m\u001b[0;34m.\u001b[0m\u001b[0meval\u001b[0m\u001b[0;34m(\u001b[0m\u001b[0;34m)\u001b[0m\u001b[0;34m\u001b[0m\u001b[0;34m\u001b[0m\u001b[0m\n\u001b[1;32m      3\u001b[0m \u001b[0msample_loader\u001b[0m \u001b[0;34m=\u001b[0m \u001b[0mpreprocess_data_bert\u001b[0m\u001b[0;34m(\u001b[0m\u001b[0msample\u001b[0m\u001b[0;34m)\u001b[0m\u001b[0;34m\u001b[0m\u001b[0;34m\u001b[0m\u001b[0m\n\u001b[1;32m      4\u001b[0m \u001b[0;32mfor\u001b[0m \u001b[0ms\u001b[0m \u001b[0;32min\u001b[0m \u001b[0msample_loader\u001b[0m\u001b[0;34m:\u001b[0m\u001b[0;34m\u001b[0m\u001b[0;34m\u001b[0m\u001b[0m\n\u001b[1;32m      5\u001b[0m     \u001b[0msample\u001b[0m \u001b[0;34m=\u001b[0m \u001b[0mtuple\u001b[0m\u001b[0;34m(\u001b[0m\u001b[0mt\u001b[0m \u001b[0;32mfor\u001b[0m \u001b[0mt\u001b[0m \u001b[0;32min\u001b[0m \u001b[0ms\u001b[0m\u001b[0;34m)\u001b[0m\u001b[0;34m\u001b[0m\u001b[0;34m\u001b[0m\u001b[0m\n",
            "\u001b[0;31mRuntimeError\u001b[0m: Invalid device string: '0'"
          ]
        }
      ]
    },
    {
      "cell_type": "code",
      "execution_count": null,
      "metadata": {
        "id": "68xreA9JAmG5"
      },
      "outputs": [],
      "source": [
        "import matplotlib.pyplot as plt\n",
        "% matplotlib inline\n",
        "\n",
        "import seaborn as sns\n",
        "\n",
        "# Use plot styling from seaborn.\n",
        "sns.set(style='darkgrid')\n",
        "\n",
        "# Increase the plot size and font size.\n",
        "sns.set(font_scale=1.5)\n",
        "plt.rcParams[\"figure.figsize\"] = (12,6)\n",
        "\n",
        "# Plot the learning curve.\n",
        "plt.plot(df_stats['Training Loss'], 'b-o', label=\"Training\")\n",
        "\n",
        "# Label the plot.\n",
        "plt.title(\"Training Loss\")\n",
        "plt.xlabel(\"Epoch\")\n",
        "plt.ylabel(\"Loss\")\n",
        "plt.legend()\n",
        "plt.xticks([1, 2, 3])\n",
        "\n",
        "plt.show()"
      ]
    }
  ],
  "metadata": {
    "accelerator": "GPU",
    "colab": {
      "provenance": [],
      "include_colab_link": true
    },
    "kernelspec": {
      "display_name": "Python 3",
      "name": "python3"
    }
  },
  "nbformat": 4,
  "nbformat_minor": 0
}